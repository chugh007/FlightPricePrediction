{
 "cells": [
  {
   "cell_type": "code",
   "execution_count": 1,
   "metadata": {
    "tags": []
   },
   "outputs": [
    {
     "output_type": "stream",
     "name": "stdout",
     "text": "dataset/Data_Train.xlsx\ndataset/Test_set.xlsx\ndataset/Sample_submission.xlsx\n"
    }
   ],
   "source": [
    "import numpy as np\n",
    "import pandas as pd\n",
    "import os\n",
    "pd.set_option('display.max_columns', None)\n",
    "from sklearn.linear_model import Lasso,SGDRegressor\n",
    "from sklearn.pipeline import Pipeline\n",
    "from sklearn.compose import ColumnTransformer\n",
    "from sklearn.model_selection import GridSearchCV,RandomizedSearchCV,train_test_split\n",
    "from sklearn.ensemble import RandomForestRegressor,ExtraTreesRegressor,BaggingRegressor,VotingRegressor,GradientBoostingRegressor,AdaBoostRegressor\n",
    "from sklearn.svm import SVR\n",
    "from sklearn.metrics import mean_squared_error\n",
    "from sklearn.preprocessing import StandardScaler,MinMaxScaler,OneHotEncoder,OrdinalEncoder,LabelEncoder\n",
    "from sklearn.base import BaseEstimator,TransformerMixin\n",
    "%matplotlib inline\n",
    "import matplotlib\n",
    "import matplotlib.pyplot as plt\n",
    "import seaborn as sns\n",
    "import time\n",
    "from sklearn.tree import DecisionTreeRegressor\n",
    "from sklearn.feature_selection import SelectFromModel\n",
    "from date_transformer import DateTransformer\n",
    "\n",
    "\n",
    "for dirname,_,filenames in os.walk(\"dataset\"):\n",
    "    for filename in filenames:\n",
    "        print(os.path.join(dirname,filename))"
   ]
  },
  {
   "cell_type": "code",
   "execution_count": 2,
   "metadata": {},
   "outputs": [
    {
     "output_type": "execute_result",
     "data": {
      "text/plain": "           Airline Date_of_Journey    Source Destination  \\\n0           IndiGo      24/03/2019  Banglore   New Delhi   \n1        Air India       1/05/2019   Kolkata    Banglore   \n2      Jet Airways       9/06/2019     Delhi      Cochin   \n3           IndiGo      12/05/2019   Kolkata    Banglore   \n4           IndiGo      01/03/2019  Banglore   New Delhi   \n...            ...             ...       ...         ...   \n10678     Air Asia       9/04/2019   Kolkata    Banglore   \n10679    Air India      27/04/2019   Kolkata    Banglore   \n10680  Jet Airways      27/04/2019  Banglore       Delhi   \n10681      Vistara      01/03/2019  Banglore   New Delhi   \n10682    Air India       9/05/2019     Delhi      Cochin   \n\n                       Route Dep_Time  Arrival_Time Duration Total_Stops  \\\n0                  BLR → DEL    22:20  01:10 22 Mar   2h 50m    non-stop   \n1      CCU → IXR → BBI → BLR    05:50         13:15   7h 25m     2 stops   \n2      DEL → LKO → BOM → COK    09:25  04:25 10 Jun      19h     2 stops   \n3            CCU → NAG → BLR    18:05         23:30   5h 25m      1 stop   \n4            BLR → NAG → DEL    16:50         21:35   4h 45m      1 stop   \n...                      ...      ...           ...      ...         ...   \n10678              CCU → BLR    19:55         22:25   2h 30m    non-stop   \n10679              CCU → BLR    20:45         23:20   2h 35m    non-stop   \n10680              BLR → DEL    08:20         11:20       3h    non-stop   \n10681              BLR → DEL    11:30         14:10   2h 40m    non-stop   \n10682  DEL → GOI → BOM → COK    10:55         19:15   8h 20m     2 stops   \n\n      Additional_Info  Price  \n0             No info   3897  \n1             No info   7662  \n2             No info  13882  \n3             No info   6218  \n4             No info  13302  \n...               ...    ...  \n10678         No info   4107  \n10679         No info   4145  \n10680         No info   7229  \n10681         No info  12648  \n10682         No info  11753  \n\n[10683 rows x 11 columns]",
      "text/html": "<div>\n<style scoped>\n    .dataframe tbody tr th:only-of-type {\n        vertical-align: middle;\n    }\n\n    .dataframe tbody tr th {\n        vertical-align: top;\n    }\n\n    .dataframe thead th {\n        text-align: right;\n    }\n</style>\n<table border=\"1\" class=\"dataframe\">\n  <thead>\n    <tr style=\"text-align: right;\">\n      <th></th>\n      <th>Airline</th>\n      <th>Date_of_Journey</th>\n      <th>Source</th>\n      <th>Destination</th>\n      <th>Route</th>\n      <th>Dep_Time</th>\n      <th>Arrival_Time</th>\n      <th>Duration</th>\n      <th>Total_Stops</th>\n      <th>Additional_Info</th>\n      <th>Price</th>\n    </tr>\n  </thead>\n  <tbody>\n    <tr>\n      <th>0</th>\n      <td>IndiGo</td>\n      <td>24/03/2019</td>\n      <td>Banglore</td>\n      <td>New Delhi</td>\n      <td>BLR → DEL</td>\n      <td>22:20</td>\n      <td>01:10 22 Mar</td>\n      <td>2h 50m</td>\n      <td>non-stop</td>\n      <td>No info</td>\n      <td>3897</td>\n    </tr>\n    <tr>\n      <th>1</th>\n      <td>Air India</td>\n      <td>1/05/2019</td>\n      <td>Kolkata</td>\n      <td>Banglore</td>\n      <td>CCU → IXR → BBI → BLR</td>\n      <td>05:50</td>\n      <td>13:15</td>\n      <td>7h 25m</td>\n      <td>2 stops</td>\n      <td>No info</td>\n      <td>7662</td>\n    </tr>\n    <tr>\n      <th>2</th>\n      <td>Jet Airways</td>\n      <td>9/06/2019</td>\n      <td>Delhi</td>\n      <td>Cochin</td>\n      <td>DEL → LKO → BOM → COK</td>\n      <td>09:25</td>\n      <td>04:25 10 Jun</td>\n      <td>19h</td>\n      <td>2 stops</td>\n      <td>No info</td>\n      <td>13882</td>\n    </tr>\n    <tr>\n      <th>3</th>\n      <td>IndiGo</td>\n      <td>12/05/2019</td>\n      <td>Kolkata</td>\n      <td>Banglore</td>\n      <td>CCU → NAG → BLR</td>\n      <td>18:05</td>\n      <td>23:30</td>\n      <td>5h 25m</td>\n      <td>1 stop</td>\n      <td>No info</td>\n      <td>6218</td>\n    </tr>\n    <tr>\n      <th>4</th>\n      <td>IndiGo</td>\n      <td>01/03/2019</td>\n      <td>Banglore</td>\n      <td>New Delhi</td>\n      <td>BLR → NAG → DEL</td>\n      <td>16:50</td>\n      <td>21:35</td>\n      <td>4h 45m</td>\n      <td>1 stop</td>\n      <td>No info</td>\n      <td>13302</td>\n    </tr>\n    <tr>\n      <th>...</th>\n      <td>...</td>\n      <td>...</td>\n      <td>...</td>\n      <td>...</td>\n      <td>...</td>\n      <td>...</td>\n      <td>...</td>\n      <td>...</td>\n      <td>...</td>\n      <td>...</td>\n      <td>...</td>\n    </tr>\n    <tr>\n      <th>10678</th>\n      <td>Air Asia</td>\n      <td>9/04/2019</td>\n      <td>Kolkata</td>\n      <td>Banglore</td>\n      <td>CCU → BLR</td>\n      <td>19:55</td>\n      <td>22:25</td>\n      <td>2h 30m</td>\n      <td>non-stop</td>\n      <td>No info</td>\n      <td>4107</td>\n    </tr>\n    <tr>\n      <th>10679</th>\n      <td>Air India</td>\n      <td>27/04/2019</td>\n      <td>Kolkata</td>\n      <td>Banglore</td>\n      <td>CCU → BLR</td>\n      <td>20:45</td>\n      <td>23:20</td>\n      <td>2h 35m</td>\n      <td>non-stop</td>\n      <td>No info</td>\n      <td>4145</td>\n    </tr>\n    <tr>\n      <th>10680</th>\n      <td>Jet Airways</td>\n      <td>27/04/2019</td>\n      <td>Banglore</td>\n      <td>Delhi</td>\n      <td>BLR → DEL</td>\n      <td>08:20</td>\n      <td>11:20</td>\n      <td>3h</td>\n      <td>non-stop</td>\n      <td>No info</td>\n      <td>7229</td>\n    </tr>\n    <tr>\n      <th>10681</th>\n      <td>Vistara</td>\n      <td>01/03/2019</td>\n      <td>Banglore</td>\n      <td>New Delhi</td>\n      <td>BLR → DEL</td>\n      <td>11:30</td>\n      <td>14:10</td>\n      <td>2h 40m</td>\n      <td>non-stop</td>\n      <td>No info</td>\n      <td>12648</td>\n    </tr>\n    <tr>\n      <th>10682</th>\n      <td>Air India</td>\n      <td>9/05/2019</td>\n      <td>Delhi</td>\n      <td>Cochin</td>\n      <td>DEL → GOI → BOM → COK</td>\n      <td>10:55</td>\n      <td>19:15</td>\n      <td>8h 20m</td>\n      <td>2 stops</td>\n      <td>No info</td>\n      <td>11753</td>\n    </tr>\n  </tbody>\n</table>\n<p>10683 rows × 11 columns</p>\n</div>"
     },
     "metadata": {},
     "execution_count": 2
    }
   ],
   "source": [
    "data = pd.read_excel(r\"dataset/Data_Train.xlsx\")\n",
    "airline = data.copy()\n",
    "airline"
   ]
  },
  {
   "cell_type": "code",
   "execution_count": 3,
   "metadata": {},
   "outputs": [
    {
     "output_type": "execute_result",
     "data": {
      "text/plain": "Airline            0\nDate_of_Journey    0\nSource             0\nDestination        0\nRoute              1\nDep_Time           0\nArrival_Time       0\nDuration           0\nTotal_Stops        1\nAdditional_Info    0\nPrice              0\ndtype: int64"
     },
     "metadata": {},
     "execution_count": 3
    }
   ],
   "source": [
    "airline.isnull().sum()"
   ]
  },
  {
   "cell_type": "code",
   "execution_count": 4,
   "metadata": {},
   "outputs": [],
   "source": [
    "airline.dropna(inplace=True)"
   ]
  },
  {
   "cell_type": "code",
   "execution_count": 5,
   "metadata": {},
   "outputs": [
    {
     "output_type": "execute_result",
     "data": {
      "text/plain": "Airline            0\nDate_of_Journey    0\nSource             0\nDestination        0\nRoute              0\nDep_Time           0\nArrival_Time       0\nDuration           0\nTotal_Stops        0\nAdditional_Info    0\nPrice              0\ndtype: int64"
     },
     "metadata": {},
     "execution_count": 5
    }
   ],
   "source": [
    "airline.isnull().sum()"
   ]
  },
  {
   "cell_type": "code",
   "execution_count": 6,
   "metadata": {},
   "outputs": [
    {
     "output_type": "execute_result",
     "data": {
      "text/plain": "       Airline Date_of_Journey    Source Destination                  Route  \\\n0       IndiGo      24/03/2019  Banglore   New Delhi              BLR → DEL   \n1    Air India       1/05/2019   Kolkata    Banglore  CCU → IXR → BBI → BLR   \n2  Jet Airways       9/06/2019     Delhi      Cochin  DEL → LKO → BOM → COK   \n3       IndiGo      12/05/2019   Kolkata    Banglore        CCU → NAG → BLR   \n4       IndiGo      01/03/2019  Banglore   New Delhi        BLR → NAG → DEL   \n\n  Dep_Time  Arrival_Time Duration Total_Stops Additional_Info  Price  \n0    22:20  01:10 22 Mar   2h 50m    non-stop         No info   3897  \n1    05:50         13:15   7h 25m     2 stops         No info   7662  \n2    09:25  04:25 10 Jun      19h     2 stops         No info  13882  \n3    18:05         23:30   5h 25m      1 stop         No info   6218  \n4    16:50         21:35   4h 45m      1 stop         No info  13302  ",
      "text/html": "<div>\n<style scoped>\n    .dataframe tbody tr th:only-of-type {\n        vertical-align: middle;\n    }\n\n    .dataframe tbody tr th {\n        vertical-align: top;\n    }\n\n    .dataframe thead th {\n        text-align: right;\n    }\n</style>\n<table border=\"1\" class=\"dataframe\">\n  <thead>\n    <tr style=\"text-align: right;\">\n      <th></th>\n      <th>Airline</th>\n      <th>Date_of_Journey</th>\n      <th>Source</th>\n      <th>Destination</th>\n      <th>Route</th>\n      <th>Dep_Time</th>\n      <th>Arrival_Time</th>\n      <th>Duration</th>\n      <th>Total_Stops</th>\n      <th>Additional_Info</th>\n      <th>Price</th>\n    </tr>\n  </thead>\n  <tbody>\n    <tr>\n      <th>0</th>\n      <td>IndiGo</td>\n      <td>24/03/2019</td>\n      <td>Banglore</td>\n      <td>New Delhi</td>\n      <td>BLR → DEL</td>\n      <td>22:20</td>\n      <td>01:10 22 Mar</td>\n      <td>2h 50m</td>\n      <td>non-stop</td>\n      <td>No info</td>\n      <td>3897</td>\n    </tr>\n    <tr>\n      <th>1</th>\n      <td>Air India</td>\n      <td>1/05/2019</td>\n      <td>Kolkata</td>\n      <td>Banglore</td>\n      <td>CCU → IXR → BBI → BLR</td>\n      <td>05:50</td>\n      <td>13:15</td>\n      <td>7h 25m</td>\n      <td>2 stops</td>\n      <td>No info</td>\n      <td>7662</td>\n    </tr>\n    <tr>\n      <th>2</th>\n      <td>Jet Airways</td>\n      <td>9/06/2019</td>\n      <td>Delhi</td>\n      <td>Cochin</td>\n      <td>DEL → LKO → BOM → COK</td>\n      <td>09:25</td>\n      <td>04:25 10 Jun</td>\n      <td>19h</td>\n      <td>2 stops</td>\n      <td>No info</td>\n      <td>13882</td>\n    </tr>\n    <tr>\n      <th>3</th>\n      <td>IndiGo</td>\n      <td>12/05/2019</td>\n      <td>Kolkata</td>\n      <td>Banglore</td>\n      <td>CCU → NAG → BLR</td>\n      <td>18:05</td>\n      <td>23:30</td>\n      <td>5h 25m</td>\n      <td>1 stop</td>\n      <td>No info</td>\n      <td>6218</td>\n    </tr>\n    <tr>\n      <th>4</th>\n      <td>IndiGo</td>\n      <td>01/03/2019</td>\n      <td>Banglore</td>\n      <td>New Delhi</td>\n      <td>BLR → NAG → DEL</td>\n      <td>16:50</td>\n      <td>21:35</td>\n      <td>4h 45m</td>\n      <td>1 stop</td>\n      <td>No info</td>\n      <td>13302</td>\n    </tr>\n  </tbody>\n</table>\n</div>"
     },
     "metadata": {},
     "execution_count": 6
    }
   ],
   "source": [
    "airline.head()"
   ]
  },
  {
   "cell_type": "code",
   "execution_count": 7,
   "metadata": {},
   "outputs": [
    {
     "output_type": "execute_result",
     "data": {
      "text/plain": "Jet Airways                          3849\nIndiGo                               2053\nAir India                            1751\nMultiple carriers                    1196\nSpiceJet                              818\nVistara                               479\nAir Asia                              319\nGoAir                                 194\nMultiple carriers Premium economy      13\nJet Airways Business                    6\nVistara Premium economy                 3\nTrujet                                  1\nName: Airline, dtype: int64"
     },
     "metadata": {},
     "execution_count": 7
    }
   ],
   "source": [
    "airline['Airline'].value_counts()"
   ]
  },
  {
   "cell_type": "code",
   "execution_count": 8,
   "metadata": {},
   "outputs": [
    {
     "output_type": "execute_result",
     "data": {
      "text/plain": "Delhi       4536\nKolkata     2871\nBanglore    2197\nMumbai       697\nChennai      381\nName: Source, dtype: int64"
     },
     "metadata": {},
     "execution_count": 8
    }
   ],
   "source": [
    "airline['Source'].value_counts()"
   ]
  },
  {
   "cell_type": "code",
   "execution_count": 9,
   "metadata": {},
   "outputs": [
    {
     "output_type": "execute_result",
     "data": {
      "text/plain": "Cochin       4536\nBanglore     2871\nDelhi        1265\nNew Delhi     932\nHyderabad     697\nKolkata       381\nName: Destination, dtype: int64"
     },
     "metadata": {},
     "execution_count": 9
    }
   ],
   "source": [
    "airline['Destination'].value_counts()"
   ]
  },
  {
   "cell_type": "code",
   "execution_count": 10,
   "metadata": {},
   "outputs": [
    {
     "output_type": "execute_result",
     "data": {
      "text/plain": "1 stop      5625\nnon-stop    3491\n2 stops     1520\n3 stops       45\n4 stops        1\nName: Total_Stops, dtype: int64"
     },
     "metadata": {},
     "execution_count": 10
    }
   ],
   "source": [
    "airline['Total_Stops'].value_counts()"
   ]
  },
  {
   "cell_type": "code",
   "execution_count": 11,
   "metadata": {},
   "outputs": [
    {
     "output_type": "execute_result",
     "data": {
      "text/plain": "No info                         8344\nIn-flight meal not included     1982\nNo check-in baggage included     320\n1 Long layover                    19\nChange airports                    7\nBusiness class                     4\nNo Info                            3\nRed-eye flight                     1\n1 Short layover                    1\n2 Long layover                     1\nName: Additional_Info, dtype: int64"
     },
     "metadata": {},
     "execution_count": 11
    }
   ],
   "source": [
    "airline['Additional_Info'].value_counts()"
   ]
  },
  {
   "cell_type": "code",
   "execution_count": 12,
   "metadata": {},
   "outputs": [
    {
     "output_type": "execute_result",
     "data": {
      "text/plain": "array([[2., 1.],\n       [1., 1.],\n       [1., 1.],\n       [0., 1.],\n       [0., 1.],\n       [2., 1.],\n       [0., 0.],\n       [0., 1.],\n       [0., 0.],\n       [0., 1.]])"
     },
     "metadata": {},
     "execution_count": 12
    }
   ],
   "source": [
    "o = OrdinalEncoder()\n",
    "new_f = o.fit_transform(airline[['Total_Stops','Additional_Info']][:10])\n",
    "new_f"
   ]
  },
  {
   "cell_type": "code",
   "execution_count": 13,
   "metadata": {},
   "outputs": [
    {
     "output_type": "execute_result",
     "data": {
      "text/plain": "array([['non-stop', 'No info'],\n       ['2 stops', 'No info'],\n       ['2 stops', 'No info'],\n       ['1 stop', 'No info'],\n       ['1 stop', 'No info'],\n       ['non-stop', 'No info'],\n       ['1 stop', 'In-flight meal not included'],\n       ['1 stop', 'No info'],\n       ['1 stop', 'In-flight meal not included'],\n       ['1 stop', 'No info']], dtype=object)"
     },
     "metadata": {},
     "execution_count": 13
    }
   ],
   "source": [
    "o.inverse_transform(new_f)"
   ]
  },
  {
   "cell_type": "code",
   "execution_count": 14,
   "metadata": {},
   "outputs": [
    {
     "output_type": "execute_result",
     "data": {
      "text/plain": "<10682x5 sparse matrix of type '<class 'numpy.float64'>'\n\twith 10682 stored elements in Compressed Sparse Row format>"
     },
     "metadata": {},
     "execution_count": 14
    }
   ],
   "source": [
    "one_hot = OneHotEncoder()\n",
    "new_f = one_hot.fit_transform(airline[['Total_Stops']])\n",
    "new_f"
   ]
  },
  {
   "cell_type": "code",
   "execution_count": 15,
   "metadata": {},
   "outputs": [
    {
     "output_type": "execute_result",
     "data": {
      "text/plain": "array([['non-stop'],\n       ['2 stops'],\n       ['2 stops'],\n       ...,\n       ['non-stop'],\n       ['non-stop'],\n       ['2 stops']], dtype=object)"
     },
     "metadata": {},
     "execution_count": 15
    }
   ],
   "source": [
    "one_hot.inverse_transform(new_f)"
   ]
  },
  {
   "cell_type": "code",
   "execution_count": 28,
   "metadata": {},
   "outputs": [
    {
     "output_type": "execute_result",
     "data": {
      "text/plain": "No info                         8337\nIn-flight meal not included     1982\nNo check-in baggage included     320\n1 Long layover                    19\nName: Additional_Info, dtype: int64"
     },
     "metadata": {},
     "execution_count": 28
    }
   ],
   "source": [
    "counts = airline['Destination'].value_counts()\n",
    "new_df = airline.loc[airline['Destination'].isin(counts.index[counts > 10])]\n",
    "new_df['Additional_Info'].value_counts()"
   ]
  },
  {
   "cell_type": "code",
   "execution_count": 17,
   "metadata": {},
   "outputs": [
    {
     "output_type": "execute_result",
     "data": {
      "text/plain": "(10682, 11)"
     },
     "metadata": {},
     "execution_count": 17
    }
   ],
   "source": [
    "airline.shape"
   ]
  },
  {
   "cell_type": "code",
   "execution_count": 18,
   "metadata": {},
   "outputs": [
    {
     "output_type": "execute_result",
     "data": {
      "text/plain": "           Airline Date_of_Journey    Source Destination  \\\n0           IndiGo      24/03/2019  Banglore   New Delhi   \n1        Air India       1/05/2019   Kolkata    Banglore   \n2      Jet Airways       9/06/2019     Delhi      Cochin   \n3           IndiGo      12/05/2019   Kolkata    Banglore   \n4           IndiGo      01/03/2019  Banglore   New Delhi   \n...            ...             ...       ...         ...   \n10678     Air Asia       9/04/2019   Kolkata    Banglore   \n10679    Air India      27/04/2019   Kolkata    Banglore   \n10680  Jet Airways      27/04/2019  Banglore       Delhi   \n10681      Vistara      01/03/2019  Banglore   New Delhi   \n10682    Air India       9/05/2019     Delhi      Cochin   \n\n                       Route Dep_Time  Arrival_Time Duration Total_Stops  \\\n0                  BLR → DEL    22:20  01:10 22 Mar   2h 50m    non-stop   \n1      CCU → IXR → BBI → BLR    05:50         13:15   7h 25m     2 stops   \n2      DEL → LKO → BOM → COK    09:25  04:25 10 Jun      19h     2 stops   \n3            CCU → NAG → BLR    18:05         23:30   5h 25m      1 stop   \n4            BLR → NAG → DEL    16:50         21:35   4h 45m      1 stop   \n...                      ...      ...           ...      ...         ...   \n10678              CCU → BLR    19:55         22:25   2h 30m    non-stop   \n10679              CCU → BLR    20:45         23:20   2h 35m    non-stop   \n10680              BLR → DEL    08:20         11:20       3h    non-stop   \n10681              BLR → DEL    11:30         14:10   2h 40m    non-stop   \n10682  DEL → GOI → BOM → COK    10:55         19:15   8h 20m     2 stops   \n\n      Additional_Info  Price  \n0             No info   3897  \n1             No info   7662  \n2             No info  13882  \n3             No info   6218  \n4             No info  13302  \n...               ...    ...  \n10678         No info   4107  \n10679         No info   4145  \n10680         No info   7229  \n10681         No info  12648  \n10682         No info  11753  \n\n[10658 rows x 11 columns]",
      "text/html": "<div>\n<style scoped>\n    .dataframe tbody tr th:only-of-type {\n        vertical-align: middle;\n    }\n\n    .dataframe tbody tr th {\n        vertical-align: top;\n    }\n\n    .dataframe thead th {\n        text-align: right;\n    }\n</style>\n<table border=\"1\" class=\"dataframe\">\n  <thead>\n    <tr style=\"text-align: right;\">\n      <th></th>\n      <th>Airline</th>\n      <th>Date_of_Journey</th>\n      <th>Source</th>\n      <th>Destination</th>\n      <th>Route</th>\n      <th>Dep_Time</th>\n      <th>Arrival_Time</th>\n      <th>Duration</th>\n      <th>Total_Stops</th>\n      <th>Additional_Info</th>\n      <th>Price</th>\n    </tr>\n  </thead>\n  <tbody>\n    <tr>\n      <th>0</th>\n      <td>IndiGo</td>\n      <td>24/03/2019</td>\n      <td>Banglore</td>\n      <td>New Delhi</td>\n      <td>BLR → DEL</td>\n      <td>22:20</td>\n      <td>01:10 22 Mar</td>\n      <td>2h 50m</td>\n      <td>non-stop</td>\n      <td>No info</td>\n      <td>3897</td>\n    </tr>\n    <tr>\n      <th>1</th>\n      <td>Air India</td>\n      <td>1/05/2019</td>\n      <td>Kolkata</td>\n      <td>Banglore</td>\n      <td>CCU → IXR → BBI → BLR</td>\n      <td>05:50</td>\n      <td>13:15</td>\n      <td>7h 25m</td>\n      <td>2 stops</td>\n      <td>No info</td>\n      <td>7662</td>\n    </tr>\n    <tr>\n      <th>2</th>\n      <td>Jet Airways</td>\n      <td>9/06/2019</td>\n      <td>Delhi</td>\n      <td>Cochin</td>\n      <td>DEL → LKO → BOM → COK</td>\n      <td>09:25</td>\n      <td>04:25 10 Jun</td>\n      <td>19h</td>\n      <td>2 stops</td>\n      <td>No info</td>\n      <td>13882</td>\n    </tr>\n    <tr>\n      <th>3</th>\n      <td>IndiGo</td>\n      <td>12/05/2019</td>\n      <td>Kolkata</td>\n      <td>Banglore</td>\n      <td>CCU → NAG → BLR</td>\n      <td>18:05</td>\n      <td>23:30</td>\n      <td>5h 25m</td>\n      <td>1 stop</td>\n      <td>No info</td>\n      <td>6218</td>\n    </tr>\n    <tr>\n      <th>4</th>\n      <td>IndiGo</td>\n      <td>01/03/2019</td>\n      <td>Banglore</td>\n      <td>New Delhi</td>\n      <td>BLR → NAG → DEL</td>\n      <td>16:50</td>\n      <td>21:35</td>\n      <td>4h 45m</td>\n      <td>1 stop</td>\n      <td>No info</td>\n      <td>13302</td>\n    </tr>\n    <tr>\n      <th>...</th>\n      <td>...</td>\n      <td>...</td>\n      <td>...</td>\n      <td>...</td>\n      <td>...</td>\n      <td>...</td>\n      <td>...</td>\n      <td>...</td>\n      <td>...</td>\n      <td>...</td>\n      <td>...</td>\n    </tr>\n    <tr>\n      <th>10678</th>\n      <td>Air Asia</td>\n      <td>9/04/2019</td>\n      <td>Kolkata</td>\n      <td>Banglore</td>\n      <td>CCU → BLR</td>\n      <td>19:55</td>\n      <td>22:25</td>\n      <td>2h 30m</td>\n      <td>non-stop</td>\n      <td>No info</td>\n      <td>4107</td>\n    </tr>\n    <tr>\n      <th>10679</th>\n      <td>Air India</td>\n      <td>27/04/2019</td>\n      <td>Kolkata</td>\n      <td>Banglore</td>\n      <td>CCU → BLR</td>\n      <td>20:45</td>\n      <td>23:20</td>\n      <td>2h 35m</td>\n      <td>non-stop</td>\n      <td>No info</td>\n      <td>4145</td>\n    </tr>\n    <tr>\n      <th>10680</th>\n      <td>Jet Airways</td>\n      <td>27/04/2019</td>\n      <td>Banglore</td>\n      <td>Delhi</td>\n      <td>BLR → DEL</td>\n      <td>08:20</td>\n      <td>11:20</td>\n      <td>3h</td>\n      <td>non-stop</td>\n      <td>No info</td>\n      <td>7229</td>\n    </tr>\n    <tr>\n      <th>10681</th>\n      <td>Vistara</td>\n      <td>01/03/2019</td>\n      <td>Banglore</td>\n      <td>New Delhi</td>\n      <td>BLR → DEL</td>\n      <td>11:30</td>\n      <td>14:10</td>\n      <td>2h 40m</td>\n      <td>non-stop</td>\n      <td>No info</td>\n      <td>12648</td>\n    </tr>\n    <tr>\n      <th>10682</th>\n      <td>Air India</td>\n      <td>9/05/2019</td>\n      <td>Delhi</td>\n      <td>Cochin</td>\n      <td>DEL → GOI → BOM → COK</td>\n      <td>10:55</td>\n      <td>19:15</td>\n      <td>8h 20m</td>\n      <td>2 stops</td>\n      <td>No info</td>\n      <td>11753</td>\n    </tr>\n  </tbody>\n</table>\n<p>10658 rows × 11 columns</p>\n</div>"
     },
     "metadata": {},
     "execution_count": 18
    }
   ],
   "source": [
    "\n",
    "\n",
    "class RareCategories(BaseEstimator,TransformerMixin):\n",
    "    \"\"\"\n",
    "    delete rare categories with unknown , less than threshold\n",
    "    if threshold is in fraction , then replace the percent of categories\n",
    "    else take absolute number\n",
    "    \"\"\"\n",
    "    def __init__(self,threshold=10):\n",
    "        self.threshold = threshold\n",
    "    def fit(self,X,y=None):\n",
    "        return self\n",
    "    def transform(self,X,y=None):\n",
    "        newx = X.copy()\n",
    "        for f in newx.columns:\n",
    "            if (newx[f].dtype == 'object' or newx[f].dtype == 'O') and len(newx[f].unique()) < 30:\n",
    "            #newx.drop(index = self.rare_dict[f],inplace=True,errors='ignore')\n",
    "                #print(f)\n",
    "                counts = newx[f].value_counts()\n",
    "                newx = newx.loc[newx[f].isin(counts.index[counts > self.threshold])]\n",
    "            #newx[f] = np.where(newx[f].isin(self.rare_dict[f]),'RARE',newx[f])\n",
    "        return newx\n",
    "    \n",
    "airline = RareCategories().fit_transform(airline)\n",
    "airline"
   ]
  },
  {
   "cell_type": "code",
   "execution_count": 488,
   "metadata": {},
   "outputs": [
    {
     "data": {
      "text/plain": [
       "(8526, 10)"
      ]
     },
     "execution_count": 488,
     "metadata": {},
     "output_type": "execute_result"
    }
   ],
   "source": [
    "X_train,X_test,y_train,y_test = train_test_split(airline.drop('Price',axis=1),airline['Price'].copy(),test_size=0.2,random_state=42)\n",
    "X_train.shape"
   ]
  },
  {
   "cell_type": "code",
   "execution_count": 30,
   "metadata": {},
   "outputs": [
    {
     "output_type": "execute_result",
     "data": {
      "text/plain": "       Airline Date_of_Journey    Source Destination                  Route  \\\n0       IndiGo      24/03/2019  Banglore   New Delhi              BLR → DEL   \n1    Air India       1/05/2019   Kolkata    Banglore  CCU → IXR → BBI → BLR   \n2  Jet Airways       9/06/2019     Delhi      Cochin  DEL → LKO → BOM → COK   \n3       IndiGo      12/05/2019   Kolkata    Banglore        CCU → NAG → BLR   \n4       IndiGo      01/03/2019  Banglore   New Delhi        BLR → NAG → DEL   \n\n  Dep_Time  Arrival_Time Duration Total_Stops Additional_Info  Price  \n0    22:20  01:10 22 Mar   2h 50m    non-stop         No info   3897  \n1    05:50         13:15   7h 25m     2 stops         No info   7662  \n2    09:25  04:25 10 Jun      19h     2 stops         No info  13882  \n3    18:05         23:30   5h 25m      1 stop         No info   6218  \n4    16:50         21:35   4h 45m      1 stop         No info  13302  ",
      "text/html": "<div>\n<style scoped>\n    .dataframe tbody tr th:only-of-type {\n        vertical-align: middle;\n    }\n\n    .dataframe tbody tr th {\n        vertical-align: top;\n    }\n\n    .dataframe thead th {\n        text-align: right;\n    }\n</style>\n<table border=\"1\" class=\"dataframe\">\n  <thead>\n    <tr style=\"text-align: right;\">\n      <th></th>\n      <th>Airline</th>\n      <th>Date_of_Journey</th>\n      <th>Source</th>\n      <th>Destination</th>\n      <th>Route</th>\n      <th>Dep_Time</th>\n      <th>Arrival_Time</th>\n      <th>Duration</th>\n      <th>Total_Stops</th>\n      <th>Additional_Info</th>\n      <th>Price</th>\n    </tr>\n  </thead>\n  <tbody>\n    <tr>\n      <th>0</th>\n      <td>IndiGo</td>\n      <td>24/03/2019</td>\n      <td>Banglore</td>\n      <td>New Delhi</td>\n      <td>BLR → DEL</td>\n      <td>22:20</td>\n      <td>01:10 22 Mar</td>\n      <td>2h 50m</td>\n      <td>non-stop</td>\n      <td>No info</td>\n      <td>3897</td>\n    </tr>\n    <tr>\n      <th>1</th>\n      <td>Air India</td>\n      <td>1/05/2019</td>\n      <td>Kolkata</td>\n      <td>Banglore</td>\n      <td>CCU → IXR → BBI → BLR</td>\n      <td>05:50</td>\n      <td>13:15</td>\n      <td>7h 25m</td>\n      <td>2 stops</td>\n      <td>No info</td>\n      <td>7662</td>\n    </tr>\n    <tr>\n      <th>2</th>\n      <td>Jet Airways</td>\n      <td>9/06/2019</td>\n      <td>Delhi</td>\n      <td>Cochin</td>\n      <td>DEL → LKO → BOM → COK</td>\n      <td>09:25</td>\n      <td>04:25 10 Jun</td>\n      <td>19h</td>\n      <td>2 stops</td>\n      <td>No info</td>\n      <td>13882</td>\n    </tr>\n    <tr>\n      <th>3</th>\n      <td>IndiGo</td>\n      <td>12/05/2019</td>\n      <td>Kolkata</td>\n      <td>Banglore</td>\n      <td>CCU → NAG → BLR</td>\n      <td>18:05</td>\n      <td>23:30</td>\n      <td>5h 25m</td>\n      <td>1 stop</td>\n      <td>No info</td>\n      <td>6218</td>\n    </tr>\n    <tr>\n      <th>4</th>\n      <td>IndiGo</td>\n      <td>01/03/2019</td>\n      <td>Banglore</td>\n      <td>New Delhi</td>\n      <td>BLR → NAG → DEL</td>\n      <td>16:50</td>\n      <td>21:35</td>\n      <td>4h 45m</td>\n      <td>1 stop</td>\n      <td>No info</td>\n      <td>13302</td>\n    </tr>\n  </tbody>\n</table>\n</div>"
     },
     "metadata": {},
     "execution_count": 30
    }
   ],
   "source": [
    "airline.head()"
   ]
  },
  {
   "cell_type": "code",
   "execution_count": 489,
   "metadata": {},
   "outputs": [
    {
     "data": {
      "text/html": [
       "<div>\n",
       "<style scoped>\n",
       "    .dataframe tbody tr th:only-of-type {\n",
       "        vertical-align: middle;\n",
       "    }\n",
       "\n",
       "    .dataframe tbody tr th {\n",
       "        vertical-align: top;\n",
       "    }\n",
       "\n",
       "    .dataframe thead th {\n",
       "        text-align: right;\n",
       "    }\n",
       "</style>\n",
       "<table border=\"1\" class=\"dataframe\">\n",
       "  <thead>\n",
       "    <tr style=\"text-align: right;\">\n",
       "      <th></th>\n",
       "      <th>Airline</th>\n",
       "      <th>Date_of_Journey</th>\n",
       "      <th>Source</th>\n",
       "      <th>Destination</th>\n",
       "      <th>Route</th>\n",
       "      <th>Dep_Time</th>\n",
       "      <th>Arrival_Time</th>\n",
       "      <th>Duration</th>\n",
       "      <th>Total_Stops</th>\n",
       "      <th>Additional_Info</th>\n",
       "    </tr>\n",
       "  </thead>\n",
       "  <tbody>\n",
       "    <tr>\n",
       "      <th>7653</th>\n",
       "      <td>Air India</td>\n",
       "      <td>12/06/2019</td>\n",
       "      <td>Kolkata</td>\n",
       "      <td>Banglore</td>\n",
       "      <td>CCU → DEL → BLR</td>\n",
       "      <td>17:30</td>\n",
       "      <td>20:25 13 Jun</td>\n",
       "      <td>26h 55m</td>\n",
       "      <td>1 stop</td>\n",
       "      <td>No info</td>\n",
       "    </tr>\n",
       "    <tr>\n",
       "      <th>3045</th>\n",
       "      <td>Multiple carriers</td>\n",
       "      <td>9/04/2019</td>\n",
       "      <td>Delhi</td>\n",
       "      <td>Cochin</td>\n",
       "      <td>DEL → BOM → COK</td>\n",
       "      <td>10:35</td>\n",
       "      <td>19:15</td>\n",
       "      <td>8h 40m</td>\n",
       "      <td>1 stop</td>\n",
       "      <td>No info</td>\n",
       "    </tr>\n",
       "    <tr>\n",
       "      <th>4066</th>\n",
       "      <td>SpiceJet</td>\n",
       "      <td>21/03/2019</td>\n",
       "      <td>Mumbai</td>\n",
       "      <td>Hyderabad</td>\n",
       "      <td>BOM → HYD</td>\n",
       "      <td>22:45</td>\n",
       "      <td>00:10 22 Mar</td>\n",
       "      <td>1h 25m</td>\n",
       "      <td>non-stop</td>\n",
       "      <td>No info</td>\n",
       "    </tr>\n",
       "    <tr>\n",
       "      <th>2489</th>\n",
       "      <td>Jet Airways</td>\n",
       "      <td>6/03/2019</td>\n",
       "      <td>Delhi</td>\n",
       "      <td>Cochin</td>\n",
       "      <td>DEL → BOM → COK</td>\n",
       "      <td>08:00</td>\n",
       "      <td>04:25 07 Mar</td>\n",
       "      <td>20h 25m</td>\n",
       "      <td>1 stop</td>\n",
       "      <td>In-flight meal not included</td>\n",
       "    </tr>\n",
       "    <tr>\n",
       "      <th>6735</th>\n",
       "      <td>Jet Airways</td>\n",
       "      <td>9/06/2019</td>\n",
       "      <td>Delhi</td>\n",
       "      <td>Cochin</td>\n",
       "      <td>DEL → JAI → BOM → COK</td>\n",
       "      <td>19:30</td>\n",
       "      <td>04:25 10 Jun</td>\n",
       "      <td>8h 55m</td>\n",
       "      <td>2 stops</td>\n",
       "      <td>No info</td>\n",
       "    </tr>\n",
       "  </tbody>\n",
       "</table>\n",
       "</div>"
      ],
      "text/plain": [
       "                Airline Date_of_Journey   Source Destination  \\\n",
       "7653          Air India      12/06/2019  Kolkata    Banglore   \n",
       "3045  Multiple carriers       9/04/2019    Delhi      Cochin   \n",
       "4066           SpiceJet      21/03/2019   Mumbai   Hyderabad   \n",
       "2489        Jet Airways       6/03/2019    Delhi      Cochin   \n",
       "6735        Jet Airways       9/06/2019    Delhi      Cochin   \n",
       "\n",
       "                      Route Dep_Time  Arrival_Time Duration Total_Stops  \\\n",
       "7653        CCU → DEL → BLR    17:30  20:25 13 Jun  26h 55m      1 stop   \n",
       "3045        DEL → BOM → COK    10:35         19:15   8h 40m      1 stop   \n",
       "4066              BOM → HYD    22:45  00:10 22 Mar   1h 25m    non-stop   \n",
       "2489        DEL → BOM → COK    08:00  04:25 07 Mar  20h 25m      1 stop   \n",
       "6735  DEL → JAI → BOM → COK    19:30  04:25 10 Jun   8h 55m     2 stops   \n",
       "\n",
       "                  Additional_Info  \n",
       "7653                      No info  \n",
       "3045                      No info  \n",
       "4066                      No info  \n",
       "2489  In-flight meal not included  \n",
       "6735                      No info  "
      ]
     },
     "execution_count": 489,
     "metadata": {},
     "output_type": "execute_result"
    }
   ],
   "source": [
    "X_train.head()"
   ]
  },
  {
   "cell_type": "code",
   "execution_count": 78,
   "metadata": {},
   "outputs": [
    {
     "data": {
      "image/png": "[encoded data removed]",
      "text/plain": [
       "<Figure size 576x576 with 1 Axes>"
      ]
     },
     "metadata": {
      "needs_background": "light"
     },
     "output_type": "display_data"
    },
    {
     "data": {
      "image/png": "[encoded data removed]",
      "text/plain": [
       "<Figure size 576x576 with 1 Axes>"
      ]
     },
     "metadata": {
      "needs_background": "light"
     },
     "output_type": "display_data"
    },
    {
     "data": {
      "image/png": "[encoded data removed]",
      "text/plain": [
       "<Figure size 576x576 with 1 Axes>"
      ]
     },
     "metadata": {
      "needs_background": "light"
     },
     "output_type": "display_data"
    },
    {
     "data": {
      "image/png": "[encoded data removed]",
      "text/plain": [
       "<Figure size 576x576 with 1 Axes>"
      ]
     },
     "metadata": {
      "needs_background": "light"
     },
     "output_type": "display_data"
    },
    {
     "data": {
      "image/png": "[encoded data removed]",
      "text/plain": [
       "<Figure size 576x576 with 1 Axes>"
      ]
     },
     "metadata": {
      "needs_background": "light"
     },
     "output_type": "display_data"
    }
   ],
   "source": [
    "cat_features = ['Airline','Source','Destination','Total_Stops','Additional_Info']\n",
    "for f in cat_features:\n",
    "    sns.catplot(x=f,y='Price',data=airline.sort_values('Price',ascending=False),height=8)\n",
    "    #airline.groupby(f)['Price'].mean().plot.bar()\n",
    "    plt.show()"
   ]
  },
  {
   "cell_type": "code",
   "execution_count": 415,
   "metadata": {},
   "outputs": [
    {
     "ename": "KeyError",
     "evalue": "\"['Jet Airways Business' 'Trujet' 'Vistara Premium economy'] not found in axis\"",
     "output_type": "error",
     "traceback": [
      "\u001b[0;31m---------------------------------------------------------------------------\u001b[0m",
      "\u001b[0;31mKeyError\u001b[0m                                  Traceback (most recent call last)",
      "\u001b[0;32m<ipython-input-415-53d1a52a2d1b>\u001b[0m in \u001b[0;36m<module>\u001b[0;34m\u001b[0m\n\u001b[1;32m      1\u001b[0m \u001b[0minstances\u001b[0m \u001b[0;34m=\u001b[0m \u001b[0mX_train\u001b[0m\u001b[0;34m.\u001b[0m\u001b[0mgroupby\u001b[0m\u001b[0;34m(\u001b[0m\u001b[0;34m'Airline'\u001b[0m\u001b[0;34m)\u001b[0m\u001b[0;34m[\u001b[0m\u001b[0;34m'Airline'\u001b[0m\u001b[0;34m]\u001b[0m\u001b[0;34m.\u001b[0m\u001b[0mcount\u001b[0m\u001b[0;34m(\u001b[0m\u001b[0;34m)\u001b[0m\u001b[0;34m\u001b[0m\u001b[0;34m\u001b[0m\u001b[0m\n\u001b[1;32m      2\u001b[0m \u001b[0minstances\u001b[0m\u001b[0;34m[\u001b[0m\u001b[0minstances\u001b[0m \u001b[0;34m<\u001b[0m \u001b[0;36m10\u001b[0m\u001b[0;34m]\u001b[0m\u001b[0;34m.\u001b[0m\u001b[0mindex\u001b[0m\u001b[0;34m\u001b[0m\u001b[0;34m\u001b[0m\u001b[0m\n\u001b[0;32m----> 3\u001b[0;31m \u001b[0mX_train\u001b[0m\u001b[0;34m.\u001b[0m\u001b[0mdrop\u001b[0m\u001b[0;34m(\u001b[0m\u001b[0mindex\u001b[0m\u001b[0;34m=\u001b[0m\u001b[0minstances\u001b[0m\u001b[0;34m[\u001b[0m\u001b[0minstances\u001b[0m \u001b[0;34m<\u001b[0m \u001b[0;36m10\u001b[0m\u001b[0;34m]\u001b[0m\u001b[0;34m.\u001b[0m\u001b[0mindex\u001b[0m\u001b[0;34m,\u001b[0m\u001b[0mcolumns\u001b[0m\u001b[0;34m=\u001b[0m\u001b[0;34m[\u001b[0m\u001b[0;34m'Airline'\u001b[0m\u001b[0;34m]\u001b[0m\u001b[0;34m)\u001b[0m\u001b[0;34m\u001b[0m\u001b[0;34m\u001b[0m\u001b[0m\n\u001b[0m",
      "\u001b[0;32m/opt/anaconda3/envs/flightpriceprediction/lib/python3.7/site-packages/pandas/core/frame.py\u001b[0m in \u001b[0;36mdrop\u001b[0;34m(self, labels, axis, index, columns, level, inplace, errors)\u001b[0m\n\u001b[1;32m   4165\u001b[0m             \u001b[0mlevel\u001b[0m\u001b[0;34m=\u001b[0m\u001b[0mlevel\u001b[0m\u001b[0;34m,\u001b[0m\u001b[0;34m\u001b[0m\u001b[0;34m\u001b[0m\u001b[0m\n\u001b[1;32m   4166\u001b[0m             \u001b[0minplace\u001b[0m\u001b[0;34m=\u001b[0m\u001b[0minplace\u001b[0m\u001b[0;34m,\u001b[0m\u001b[0;34m\u001b[0m\u001b[0;34m\u001b[0m\u001b[0m\n\u001b[0;32m-> 4167\u001b[0;31m             \u001b[0merrors\u001b[0m\u001b[0;34m=\u001b[0m\u001b[0merrors\u001b[0m\u001b[0;34m,\u001b[0m\u001b[0;34m\u001b[0m\u001b[0;34m\u001b[0m\u001b[0m\n\u001b[0m\u001b[1;32m   4168\u001b[0m         )\n\u001b[1;32m   4169\u001b[0m \u001b[0;34m\u001b[0m\u001b[0m\n",
      "\u001b[0;32m/opt/anaconda3/envs/flightpriceprediction/lib/python3.7/site-packages/pandas/core/generic.py\u001b[0m in \u001b[0;36mdrop\u001b[0;34m(self, labels, axis, index, columns, level, inplace, errors)\u001b[0m\n\u001b[1;32m   3876\u001b[0m         \u001b[0;32mfor\u001b[0m \u001b[0maxis\u001b[0m\u001b[0;34m,\u001b[0m \u001b[0mlabels\u001b[0m \u001b[0;32min\u001b[0m \u001b[0maxes\u001b[0m\u001b[0;34m.\u001b[0m\u001b[0mitems\u001b[0m\u001b[0;34m(\u001b[0m\u001b[0;34m)\u001b[0m\u001b[0;34m:\u001b[0m\u001b[0;34m\u001b[0m\u001b[0;34m\u001b[0m\u001b[0m\n\u001b[1;32m   3877\u001b[0m             \u001b[0;32mif\u001b[0m \u001b[0mlabels\u001b[0m \u001b[0;32mis\u001b[0m \u001b[0;32mnot\u001b[0m \u001b[0;32mNone\u001b[0m\u001b[0;34m:\u001b[0m\u001b[0;34m\u001b[0m\u001b[0;34m\u001b[0m\u001b[0m\n\u001b[0;32m-> 3878\u001b[0;31m                 \u001b[0mobj\u001b[0m \u001b[0;34m=\u001b[0m \u001b[0mobj\u001b[0m\u001b[0;34m.\u001b[0m\u001b[0m_drop_axis\u001b[0m\u001b[0;34m(\u001b[0m\u001b[0mlabels\u001b[0m\u001b[0;34m,\u001b[0m \u001b[0maxis\u001b[0m\u001b[0;34m,\u001b[0m \u001b[0mlevel\u001b[0m\u001b[0;34m=\u001b[0m\u001b[0mlevel\u001b[0m\u001b[0;34m,\u001b[0m \u001b[0merrors\u001b[0m\u001b[0;34m=\u001b[0m\u001b[0merrors\u001b[0m\u001b[0;34m)\u001b[0m\u001b[0;34m\u001b[0m\u001b[0;34m\u001b[0m\u001b[0m\n\u001b[0m\u001b[1;32m   3879\u001b[0m \u001b[0;34m\u001b[0m\u001b[0m\n\u001b[1;32m   3880\u001b[0m         \u001b[0;32mif\u001b[0m \u001b[0minplace\u001b[0m\u001b[0;34m:\u001b[0m\u001b[0;34m\u001b[0m\u001b[0;34m\u001b[0m\u001b[0m\n",
      "\u001b[0;32m/opt/anaconda3/envs/flightpriceprediction/lib/python3.7/site-packages/pandas/core/generic.py\u001b[0m in \u001b[0;36m_drop_axis\u001b[0;34m(self, labels, axis, level, errors)\u001b[0m\n\u001b[1;32m   3910\u001b[0m                 \u001b[0mnew_axis\u001b[0m \u001b[0;34m=\u001b[0m \u001b[0maxis\u001b[0m\u001b[0;34m.\u001b[0m\u001b[0mdrop\u001b[0m\u001b[0;34m(\u001b[0m\u001b[0mlabels\u001b[0m\u001b[0;34m,\u001b[0m \u001b[0mlevel\u001b[0m\u001b[0;34m=\u001b[0m\u001b[0mlevel\u001b[0m\u001b[0;34m,\u001b[0m \u001b[0merrors\u001b[0m\u001b[0;34m=\u001b[0m\u001b[0merrors\u001b[0m\u001b[0;34m)\u001b[0m\u001b[0;34m\u001b[0m\u001b[0;34m\u001b[0m\u001b[0m\n\u001b[1;32m   3911\u001b[0m             \u001b[0;32melse\u001b[0m\u001b[0;34m:\u001b[0m\u001b[0;34m\u001b[0m\u001b[0;34m\u001b[0m\u001b[0m\n\u001b[0;32m-> 3912\u001b[0;31m                 \u001b[0mnew_axis\u001b[0m \u001b[0;34m=\u001b[0m \u001b[0maxis\u001b[0m\u001b[0;34m.\u001b[0m\u001b[0mdrop\u001b[0m\u001b[0;34m(\u001b[0m\u001b[0mlabels\u001b[0m\u001b[0;34m,\u001b[0m \u001b[0merrors\u001b[0m\u001b[0;34m=\u001b[0m\u001b[0merrors\u001b[0m\u001b[0;34m)\u001b[0m\u001b[0;34m\u001b[0m\u001b[0;34m\u001b[0m\u001b[0m\n\u001b[0m\u001b[1;32m   3913\u001b[0m             \u001b[0mresult\u001b[0m \u001b[0;34m=\u001b[0m \u001b[0mself\u001b[0m\u001b[0;34m.\u001b[0m\u001b[0mreindex\u001b[0m\u001b[0;34m(\u001b[0m\u001b[0;34m**\u001b[0m\u001b[0;34m{\u001b[0m\u001b[0maxis_name\u001b[0m\u001b[0;34m:\u001b[0m \u001b[0mnew_axis\u001b[0m\u001b[0;34m}\u001b[0m\u001b[0;34m)\u001b[0m\u001b[0;34m\u001b[0m\u001b[0;34m\u001b[0m\u001b[0m\n\u001b[1;32m   3914\u001b[0m \u001b[0;34m\u001b[0m\u001b[0m\n",
      "\u001b[0;32m/opt/anaconda3/envs/flightpriceprediction/lib/python3.7/site-packages/pandas/core/indexes/base.py\u001b[0m in \u001b[0;36mdrop\u001b[0;34m(self, labels, errors)\u001b[0m\n\u001b[1;32m   5274\u001b[0m         \u001b[0;32mif\u001b[0m \u001b[0mmask\u001b[0m\u001b[0;34m.\u001b[0m\u001b[0many\u001b[0m\u001b[0;34m(\u001b[0m\u001b[0;34m)\u001b[0m\u001b[0;34m:\u001b[0m\u001b[0;34m\u001b[0m\u001b[0;34m\u001b[0m\u001b[0m\n\u001b[1;32m   5275\u001b[0m             \u001b[0;32mif\u001b[0m \u001b[0merrors\u001b[0m \u001b[0;34m!=\u001b[0m \u001b[0;34m\"ignore\"\u001b[0m\u001b[0;34m:\u001b[0m\u001b[0;34m\u001b[0m\u001b[0;34m\u001b[0m\u001b[0m\n\u001b[0;32m-> 5276\u001b[0;31m                 \u001b[0;32mraise\u001b[0m \u001b[0mKeyError\u001b[0m\u001b[0;34m(\u001b[0m\u001b[0;34mf\"{labels[mask]} not found in axis\"\u001b[0m\u001b[0;34m)\u001b[0m\u001b[0;34m\u001b[0m\u001b[0;34m\u001b[0m\u001b[0m\n\u001b[0m\u001b[1;32m   5277\u001b[0m             \u001b[0mindexer\u001b[0m \u001b[0;34m=\u001b[0m \u001b[0mindexer\u001b[0m\u001b[0;34m[\u001b[0m\u001b[0;34m~\u001b[0m\u001b[0mmask\u001b[0m\u001b[0;34m]\u001b[0m\u001b[0;34m\u001b[0m\u001b[0;34m\u001b[0m\u001b[0m\n\u001b[1;32m   5278\u001b[0m         \u001b[0;32mreturn\u001b[0m \u001b[0mself\u001b[0m\u001b[0;34m.\u001b[0m\u001b[0mdelete\u001b[0m\u001b[0;34m(\u001b[0m\u001b[0mindexer\u001b[0m\u001b[0;34m)\u001b[0m\u001b[0;34m\u001b[0m\u001b[0;34m\u001b[0m\u001b[0m\n",
      "\u001b[0;31mKeyError\u001b[0m: \"['Jet Airways Business' 'Trujet' 'Vistara Premium economy'] not found in axis\""
     ]
    }
   ],
   "source": [
    "instances = X_train.groupby('Airline')['Airline'].count()\n",
    "instances[instances < 10].index\n",
    "X_train.drop(index=instances[instances < 10].index,columns=['Airline'])"
   ]
  },
  {
   "cell_type": "code",
   "execution_count": 478,
   "metadata": {},
   "outputs": [
    {
     "data": {
      "text/plain": [
       "No info                         6708\n",
       "In-flight meal not included     1549\n",
       "No check-in baggage included     254\n",
       "1 Long layover                    15\n",
       "Name: Additional_Info, dtype: int64"
      ]
     },
     "execution_count": 478,
     "metadata": {},
     "output_type": "execute_result"
    }
   ],
   "source": [
    "\n",
    "\n",
    "RareCategories(threshold=10).fit_transform(X_train)['Additional_Info'].value_counts()"
   ]
  },
  {
   "cell_type": "code",
   "execution_count": 479,
   "metadata": {},
   "outputs": [
    {
     "data": {
      "text/plain": [
       "True"
      ]
     },
     "execution_count": 479,
     "metadata": {},
     "output_type": "execute_result"
    }
   ],
   "source": [
    "X_train['Airline'].dtype == 'O'"
   ]
  },
  {
   "cell_type": "code",
   "execution_count": 490,
   "metadata": {},
   "outputs": [
    {
     "data": {
      "text/html": [
       "<div>\n",
       "<style scoped>\n",
       "    .dataframe tbody tr th:only-of-type {\n",
       "        vertical-align: middle;\n",
       "    }\n",
       "\n",
       "    .dataframe tbody tr th {\n",
       "        vertical-align: top;\n",
       "    }\n",
       "\n",
       "    .dataframe thead th {\n",
       "        text-align: right;\n",
       "    }\n",
       "</style>\n",
       "<table border=\"1\" class=\"dataframe\">\n",
       "  <thead>\n",
       "    <tr style=\"text-align: right;\">\n",
       "      <th></th>\n",
       "      <th>0</th>\n",
       "      <th>1</th>\n",
       "      <th>2</th>\n",
       "      <th>3</th>\n",
       "      <th>4</th>\n",
       "      <th>5</th>\n",
       "      <th>6</th>\n",
       "      <th>7</th>\n",
       "      <th>8</th>\n",
       "      <th>9</th>\n",
       "      <th>10</th>\n",
       "      <th>11</th>\n",
       "      <th>12</th>\n",
       "      <th>13</th>\n",
       "      <th>14</th>\n",
       "      <th>15</th>\n",
       "      <th>16</th>\n",
       "      <th>17</th>\n",
       "      <th>18</th>\n",
       "      <th>19</th>\n",
       "      <th>20</th>\n",
       "      <th>21</th>\n",
       "    </tr>\n",
       "  </thead>\n",
       "  <tbody>\n",
       "    <tr>\n",
       "      <th>0</th>\n",
       "      <td>0.0</td>\n",
       "      <td>1.0</td>\n",
       "      <td>0.0</td>\n",
       "      <td>0.0</td>\n",
       "      <td>0.0</td>\n",
       "      <td>0.0</td>\n",
       "      <td>0.0</td>\n",
       "      <td>0.0</td>\n",
       "      <td>0.0</td>\n",
       "      <td>0.0</td>\n",
       "      <td>0.0</td>\n",
       "      <td>0.0</td>\n",
       "      <td>1.0</td>\n",
       "      <td>0.0</td>\n",
       "      <td>1.0</td>\n",
       "      <td>0.0</td>\n",
       "      <td>0.0</td>\n",
       "      <td>0.0</td>\n",
       "      <td>0.0</td>\n",
       "      <td>0.0</td>\n",
       "      <td>0.0</td>\n",
       "      <td>3.0</td>\n",
       "    </tr>\n",
       "    <tr>\n",
       "      <th>1</th>\n",
       "      <td>0.0</td>\n",
       "      <td>0.0</td>\n",
       "      <td>0.0</td>\n",
       "      <td>0.0</td>\n",
       "      <td>0.0</td>\n",
       "      <td>1.0</td>\n",
       "      <td>0.0</td>\n",
       "      <td>0.0</td>\n",
       "      <td>0.0</td>\n",
       "      <td>0.0</td>\n",
       "      <td>0.0</td>\n",
       "      <td>1.0</td>\n",
       "      <td>0.0</td>\n",
       "      <td>0.0</td>\n",
       "      <td>0.0</td>\n",
       "      <td>1.0</td>\n",
       "      <td>0.0</td>\n",
       "      <td>0.0</td>\n",
       "      <td>0.0</td>\n",
       "      <td>0.0</td>\n",
       "      <td>0.0</td>\n",
       "      <td>3.0</td>\n",
       "    </tr>\n",
       "    <tr>\n",
       "      <th>2</th>\n",
       "      <td>0.0</td>\n",
       "      <td>0.0</td>\n",
       "      <td>0.0</td>\n",
       "      <td>0.0</td>\n",
       "      <td>0.0</td>\n",
       "      <td>0.0</td>\n",
       "      <td>0.0</td>\n",
       "      <td>1.0</td>\n",
       "      <td>0.0</td>\n",
       "      <td>0.0</td>\n",
       "      <td>0.0</td>\n",
       "      <td>0.0</td>\n",
       "      <td>0.0</td>\n",
       "      <td>1.0</td>\n",
       "      <td>0.0</td>\n",
       "      <td>0.0</td>\n",
       "      <td>0.0</td>\n",
       "      <td>1.0</td>\n",
       "      <td>0.0</td>\n",
       "      <td>0.0</td>\n",
       "      <td>3.0</td>\n",
       "      <td>3.0</td>\n",
       "    </tr>\n",
       "    <tr>\n",
       "      <th>3</th>\n",
       "      <td>0.0</td>\n",
       "      <td>0.0</td>\n",
       "      <td>0.0</td>\n",
       "      <td>0.0</td>\n",
       "      <td>1.0</td>\n",
       "      <td>0.0</td>\n",
       "      <td>0.0</td>\n",
       "      <td>0.0</td>\n",
       "      <td>0.0</td>\n",
       "      <td>0.0</td>\n",
       "      <td>0.0</td>\n",
       "      <td>1.0</td>\n",
       "      <td>0.0</td>\n",
       "      <td>0.0</td>\n",
       "      <td>0.0</td>\n",
       "      <td>1.0</td>\n",
       "      <td>0.0</td>\n",
       "      <td>0.0</td>\n",
       "      <td>0.0</td>\n",
       "      <td>0.0</td>\n",
       "      <td>0.0</td>\n",
       "      <td>1.0</td>\n",
       "    </tr>\n",
       "    <tr>\n",
       "      <th>4</th>\n",
       "      <td>0.0</td>\n",
       "      <td>0.0</td>\n",
       "      <td>0.0</td>\n",
       "      <td>0.0</td>\n",
       "      <td>1.0</td>\n",
       "      <td>0.0</td>\n",
       "      <td>0.0</td>\n",
       "      <td>0.0</td>\n",
       "      <td>0.0</td>\n",
       "      <td>0.0</td>\n",
       "      <td>0.0</td>\n",
       "      <td>1.0</td>\n",
       "      <td>0.0</td>\n",
       "      <td>0.0</td>\n",
       "      <td>0.0</td>\n",
       "      <td>1.0</td>\n",
       "      <td>0.0</td>\n",
       "      <td>0.0</td>\n",
       "      <td>0.0</td>\n",
       "      <td>0.0</td>\n",
       "      <td>1.0</td>\n",
       "      <td>3.0</td>\n",
       "    </tr>\n",
       "    <tr>\n",
       "      <th>...</th>\n",
       "      <td>...</td>\n",
       "      <td>...</td>\n",
       "      <td>...</td>\n",
       "      <td>...</td>\n",
       "      <td>...</td>\n",
       "      <td>...</td>\n",
       "      <td>...</td>\n",
       "      <td>...</td>\n",
       "      <td>...</td>\n",
       "      <td>...</td>\n",
       "      <td>...</td>\n",
       "      <td>...</td>\n",
       "      <td>...</td>\n",
       "      <td>...</td>\n",
       "      <td>...</td>\n",
       "      <td>...</td>\n",
       "      <td>...</td>\n",
       "      <td>...</td>\n",
       "      <td>...</td>\n",
       "      <td>...</td>\n",
       "      <td>...</td>\n",
       "      <td>...</td>\n",
       "    </tr>\n",
       "    <tr>\n",
       "      <th>8521</th>\n",
       "      <td>0.0</td>\n",
       "      <td>0.0</td>\n",
       "      <td>0.0</td>\n",
       "      <td>0.0</td>\n",
       "      <td>1.0</td>\n",
       "      <td>0.0</td>\n",
       "      <td>0.0</td>\n",
       "      <td>0.0</td>\n",
       "      <td>0.0</td>\n",
       "      <td>1.0</td>\n",
       "      <td>0.0</td>\n",
       "      <td>0.0</td>\n",
       "      <td>0.0</td>\n",
       "      <td>0.0</td>\n",
       "      <td>0.0</td>\n",
       "      <td>0.0</td>\n",
       "      <td>1.0</td>\n",
       "      <td>0.0</td>\n",
       "      <td>0.0</td>\n",
       "      <td>0.0</td>\n",
       "      <td>3.0</td>\n",
       "      <td>3.0</td>\n",
       "    </tr>\n",
       "    <tr>\n",
       "      <th>8522</th>\n",
       "      <td>0.0</td>\n",
       "      <td>0.0</td>\n",
       "      <td>0.0</td>\n",
       "      <td>0.0</td>\n",
       "      <td>0.0</td>\n",
       "      <td>1.0</td>\n",
       "      <td>0.0</td>\n",
       "      <td>0.0</td>\n",
       "      <td>0.0</td>\n",
       "      <td>0.0</td>\n",
       "      <td>0.0</td>\n",
       "      <td>1.0</td>\n",
       "      <td>0.0</td>\n",
       "      <td>0.0</td>\n",
       "      <td>0.0</td>\n",
       "      <td>1.0</td>\n",
       "      <td>0.0</td>\n",
       "      <td>0.0</td>\n",
       "      <td>0.0</td>\n",
       "      <td>0.0</td>\n",
       "      <td>0.0</td>\n",
       "      <td>3.0</td>\n",
       "    </tr>\n",
       "    <tr>\n",
       "      <th>8523</th>\n",
       "      <td>0.0</td>\n",
       "      <td>1.0</td>\n",
       "      <td>0.0</td>\n",
       "      <td>0.0</td>\n",
       "      <td>0.0</td>\n",
       "      <td>0.0</td>\n",
       "      <td>0.0</td>\n",
       "      <td>0.0</td>\n",
       "      <td>0.0</td>\n",
       "      <td>0.0</td>\n",
       "      <td>0.0</td>\n",
       "      <td>1.0</td>\n",
       "      <td>0.0</td>\n",
       "      <td>0.0</td>\n",
       "      <td>0.0</td>\n",
       "      <td>1.0</td>\n",
       "      <td>0.0</td>\n",
       "      <td>0.0</td>\n",
       "      <td>0.0</td>\n",
       "      <td>0.0</td>\n",
       "      <td>1.0</td>\n",
       "      <td>3.0</td>\n",
       "    </tr>\n",
       "    <tr>\n",
       "      <th>8524</th>\n",
       "      <td>0.0</td>\n",
       "      <td>1.0</td>\n",
       "      <td>0.0</td>\n",
       "      <td>0.0</td>\n",
       "      <td>0.0</td>\n",
       "      <td>0.0</td>\n",
       "      <td>0.0</td>\n",
       "      <td>0.0</td>\n",
       "      <td>0.0</td>\n",
       "      <td>0.0</td>\n",
       "      <td>0.0</td>\n",
       "      <td>1.0</td>\n",
       "      <td>0.0</td>\n",
       "      <td>0.0</td>\n",
       "      <td>0.0</td>\n",
       "      <td>1.0</td>\n",
       "      <td>0.0</td>\n",
       "      <td>0.0</td>\n",
       "      <td>0.0</td>\n",
       "      <td>0.0</td>\n",
       "      <td>0.0</td>\n",
       "      <td>3.0</td>\n",
       "    </tr>\n",
       "    <tr>\n",
       "      <th>8525</th>\n",
       "      <td>1.0</td>\n",
       "      <td>0.0</td>\n",
       "      <td>0.0</td>\n",
       "      <td>0.0</td>\n",
       "      <td>0.0</td>\n",
       "      <td>0.0</td>\n",
       "      <td>0.0</td>\n",
       "      <td>0.0</td>\n",
       "      <td>0.0</td>\n",
       "      <td>1.0</td>\n",
       "      <td>0.0</td>\n",
       "      <td>0.0</td>\n",
       "      <td>0.0</td>\n",
       "      <td>0.0</td>\n",
       "      <td>0.0</td>\n",
       "      <td>0.0</td>\n",
       "      <td>1.0</td>\n",
       "      <td>0.0</td>\n",
       "      <td>0.0</td>\n",
       "      <td>0.0</td>\n",
       "      <td>3.0</td>\n",
       "      <td>3.0</td>\n",
       "    </tr>\n",
       "  </tbody>\n",
       "</table>\n",
       "<p>8526 rows × 22 columns</p>\n",
       "</div>"
      ],
      "text/plain": [
       "       0    1    2    3    4    5    6    7    8    9    10   11   12   13  \\\n",
       "0     0.0  1.0  0.0  0.0  0.0  0.0  0.0  0.0  0.0  0.0  0.0  0.0  1.0  0.0   \n",
       "1     0.0  0.0  0.0  0.0  0.0  1.0  0.0  0.0  0.0  0.0  0.0  1.0  0.0  0.0   \n",
       "2     0.0  0.0  0.0  0.0  0.0  0.0  0.0  1.0  0.0  0.0  0.0  0.0  0.0  1.0   \n",
       "3     0.0  0.0  0.0  0.0  1.0  0.0  0.0  0.0  0.0  0.0  0.0  1.0  0.0  0.0   \n",
       "4     0.0  0.0  0.0  0.0  1.0  0.0  0.0  0.0  0.0  0.0  0.0  1.0  0.0  0.0   \n",
       "...   ...  ...  ...  ...  ...  ...  ...  ...  ...  ...  ...  ...  ...  ...   \n",
       "8521  0.0  0.0  0.0  0.0  1.0  0.0  0.0  0.0  0.0  1.0  0.0  0.0  0.0  0.0   \n",
       "8522  0.0  0.0  0.0  0.0  0.0  1.0  0.0  0.0  0.0  0.0  0.0  1.0  0.0  0.0   \n",
       "8523  0.0  1.0  0.0  0.0  0.0  0.0  0.0  0.0  0.0  0.0  0.0  1.0  0.0  0.0   \n",
       "8524  0.0  1.0  0.0  0.0  0.0  0.0  0.0  0.0  0.0  0.0  0.0  1.0  0.0  0.0   \n",
       "8525  1.0  0.0  0.0  0.0  0.0  0.0  0.0  0.0  0.0  1.0  0.0  0.0  0.0  0.0   \n",
       "\n",
       "       14   15   16   17   18   19   20   21  \n",
       "0     1.0  0.0  0.0  0.0  0.0  0.0  0.0  3.0  \n",
       "1     0.0  1.0  0.0  0.0  0.0  0.0  0.0  3.0  \n",
       "2     0.0  0.0  0.0  1.0  0.0  0.0  3.0  3.0  \n",
       "3     0.0  1.0  0.0  0.0  0.0  0.0  0.0  1.0  \n",
       "4     0.0  1.0  0.0  0.0  0.0  0.0  1.0  3.0  \n",
       "...   ...  ...  ...  ...  ...  ...  ...  ...  \n",
       "8521  0.0  0.0  1.0  0.0  0.0  0.0  3.0  3.0  \n",
       "8522  0.0  1.0  0.0  0.0  0.0  0.0  0.0  3.0  \n",
       "8523  0.0  1.0  0.0  0.0  0.0  0.0  1.0  3.0  \n",
       "8524  0.0  1.0  0.0  0.0  0.0  0.0  0.0  3.0  \n",
       "8525  0.0  0.0  1.0  0.0  0.0  0.0  3.0  3.0  \n",
       "\n",
       "[8526 rows x 22 columns]"
      ]
     },
     "execution_count": 490,
     "metadata": {},
     "output_type": "execute_result"
    }
   ],
   "source": [
    "\n",
    "            \n",
    "\n",
    "cat_pipeline = ColumnTransformer([\n",
    "    ('one_hot',OneHotEncoder(),['Airline','Source','Destination']),\n",
    "    ('ordinal_encoder',OrdinalEncoder(),['Total_Stops','Additional_Info']),\n",
    "    ('drop_features','drop',['Route'])\n",
    "])\n",
    "\n",
    "pd.DataFrame(cat_pipeline.fit_transform(X_train).toarray())"
   ]
  },
  {
   "cell_type": "code",
   "execution_count": 29,
   "metadata": {},
   "outputs": [
    {
     "output_type": "error",
     "ename": "NameError",
     "evalue": "name 'X_train' is not defined",
     "traceback": [
      "\u001b[0;31m---------------------------------------------------------------------------\u001b[0m",
      "\u001b[0;31mNameError\u001b[0m                                 Traceback (most recent call last)",
      "\u001b[0;32m<ipython-input-29-73020798007e>\u001b[0m in \u001b[0;36m<module>\u001b[0;34m\u001b[0m\n\u001b[0;32m----> 1\u001b[0;31m \u001b[0mX_train\u001b[0m\u001b[0;34m.\u001b[0m\u001b[0mhead\u001b[0m\u001b[0;34m(\u001b[0m\u001b[0;34m)\u001b[0m\u001b[0;34m\u001b[0m\u001b[0;34m\u001b[0m\u001b[0m\n\u001b[0m",
      "\u001b[0;31mNameError\u001b[0m: name 'X_train' is not defined"
     ]
    }
   ],
   "source": [
    "X_train.head()"
   ]
  },
  {
   "cell_type": "code",
   "execution_count": 143,
   "metadata": {},
   "outputs": [],
   "source": []
  },
  {
   "cell_type": "code",
   "execution_count": 144,
   "metadata": {},
   "outputs": [
    {
     "data": {
      "text/html": [
       "<div>\n",
       "<style scoped>\n",
       "    .dataframe tbody tr th:only-of-type {\n",
       "        vertical-align: middle;\n",
       "    }\n",
       "\n",
       "    .dataframe tbody tr th {\n",
       "        vertical-align: top;\n",
       "    }\n",
       "\n",
       "    .dataframe thead th {\n",
       "        text-align: right;\n",
       "    }\n",
       "</style>\n",
       "<table border=\"1\" class=\"dataframe\">\n",
       "  <thead>\n",
       "    <tr style=\"text-align: right;\">\n",
       "      <th></th>\n",
       "      <th>Airline</th>\n",
       "      <th>Source</th>\n",
       "      <th>Destination</th>\n",
       "      <th>Route</th>\n",
       "      <th>Total_Stops</th>\n",
       "      <th>Additional_Info</th>\n",
       "      <th>Date_of_Journey_year</th>\n",
       "      <th>Date_of_Journey_month</th>\n",
       "      <th>Date_of_Journey_day</th>\n",
       "      <th>Dep_Time_hour</th>\n",
       "      <th>Dep_Time_minute</th>\n",
       "      <th>Arrival_Time_hour</th>\n",
       "      <th>Arrival_Time_minute</th>\n",
       "      <th>Duration_hour</th>\n",
       "      <th>Duration_min</th>\n",
       "    </tr>\n",
       "  </thead>\n",
       "  <tbody>\n",
       "    <tr>\n",
       "      <th>10005</th>\n",
       "      <td>Multiple carriers</td>\n",
       "      <td>Delhi</td>\n",
       "      <td>Cochin</td>\n",
       "      <td>DEL → BOM → COK</td>\n",
       "      <td>1 stop</td>\n",
       "      <td>No info</td>\n",
       "      <td>1</td>\n",
       "      <td>5</td>\n",
       "      <td>27</td>\n",
       "      <td>8</td>\n",
       "      <td>30</td>\n",
       "      <td>19</td>\n",
       "      <td>15</td>\n",
       "      <td>10</td>\n",
       "      <td>45</td>\n",
       "    </tr>\n",
       "    <tr>\n",
       "      <th>3684</th>\n",
       "      <td>Jet Airways</td>\n",
       "      <td>Delhi</td>\n",
       "      <td>Cochin</td>\n",
       "      <td>DEL → BOM → COK</td>\n",
       "      <td>1 stop</td>\n",
       "      <td>In-flight meal not included</td>\n",
       "      <td>1</td>\n",
       "      <td>9</td>\n",
       "      <td>5</td>\n",
       "      <td>11</td>\n",
       "      <td>30</td>\n",
       "      <td>12</td>\n",
       "      <td>35</td>\n",
       "      <td>25</td>\n",
       "      <td>5</td>\n",
       "    </tr>\n",
       "    <tr>\n",
       "      <th>1034</th>\n",
       "      <td>SpiceJet</td>\n",
       "      <td>Delhi</td>\n",
       "      <td>Cochin</td>\n",
       "      <td>DEL → MAA → COK</td>\n",
       "      <td>1 stop</td>\n",
       "      <td>No info</td>\n",
       "      <td>1</td>\n",
       "      <td>4</td>\n",
       "      <td>24</td>\n",
       "      <td>15</td>\n",
       "      <td>45</td>\n",
       "      <td>22</td>\n",
       "      <td>5</td>\n",
       "      <td>6</td>\n",
       "      <td>20</td>\n",
       "    </tr>\n",
       "    <tr>\n",
       "      <th>3909</th>\n",
       "      <td>Multiple carriers</td>\n",
       "      <td>Delhi</td>\n",
       "      <td>Cochin</td>\n",
       "      <td>DEL → BOM → COK</td>\n",
       "      <td>1 stop</td>\n",
       "      <td>No info</td>\n",
       "      <td>1</td>\n",
       "      <td>3</td>\n",
       "      <td>21</td>\n",
       "      <td>12</td>\n",
       "      <td>50</td>\n",
       "      <td>1</td>\n",
       "      <td>35</td>\n",
       "      <td>12</td>\n",
       "      <td>45</td>\n",
       "    </tr>\n",
       "    <tr>\n",
       "      <th>3088</th>\n",
       "      <td>Air India</td>\n",
       "      <td>Delhi</td>\n",
       "      <td>Cochin</td>\n",
       "      <td>DEL → HYD → BOM → COK</td>\n",
       "      <td>2 stops</td>\n",
       "      <td>No info</td>\n",
       "      <td>1</td>\n",
       "      <td>6</td>\n",
       "      <td>24</td>\n",
       "      <td>17</td>\n",
       "      <td>15</td>\n",
       "      <td>19</td>\n",
       "      <td>15</td>\n",
       "      <td>26</td>\n",
       "      <td>0</td>\n",
       "    </tr>\n",
       "    <tr>\n",
       "      <th>...</th>\n",
       "      <td>...</td>\n",
       "      <td>...</td>\n",
       "      <td>...</td>\n",
       "      <td>...</td>\n",
       "      <td>...</td>\n",
       "      <td>...</td>\n",
       "      <td>...</td>\n",
       "      <td>...</td>\n",
       "      <td>...</td>\n",
       "      <td>...</td>\n",
       "      <td>...</td>\n",
       "      <td>...</td>\n",
       "      <td>...</td>\n",
       "      <td>...</td>\n",
       "      <td>...</td>\n",
       "    </tr>\n",
       "    <tr>\n",
       "      <th>5734</th>\n",
       "      <td>Jet Airways</td>\n",
       "      <td>Delhi</td>\n",
       "      <td>Cochin</td>\n",
       "      <td>DEL → BOM → COK</td>\n",
       "      <td>1 stop</td>\n",
       "      <td>No info</td>\n",
       "      <td>1</td>\n",
       "      <td>3</td>\n",
       "      <td>27</td>\n",
       "      <td>9</td>\n",
       "      <td>0</td>\n",
       "      <td>4</td>\n",
       "      <td>25</td>\n",
       "      <td>19</td>\n",
       "      <td>25</td>\n",
       "    </tr>\n",
       "    <tr>\n",
       "      <th>5191</th>\n",
       "      <td>Jet Airways</td>\n",
       "      <td>Kolkata</td>\n",
       "      <td>Banglore</td>\n",
       "      <td>CCU → BOM → BLR</td>\n",
       "      <td>1 stop</td>\n",
       "      <td>In-flight meal not included</td>\n",
       "      <td>1</td>\n",
       "      <td>9</td>\n",
       "      <td>5</td>\n",
       "      <td>14</td>\n",
       "      <td>5</td>\n",
       "      <td>20</td>\n",
       "      <td>45</td>\n",
       "      <td>6</td>\n",
       "      <td>40</td>\n",
       "    </tr>\n",
       "    <tr>\n",
       "      <th>5390</th>\n",
       "      <td>Multiple carriers</td>\n",
       "      <td>Delhi</td>\n",
       "      <td>Cochin</td>\n",
       "      <td>DEL → BOM → COK</td>\n",
       "      <td>1 stop</td>\n",
       "      <td>No info</td>\n",
       "      <td>1</td>\n",
       "      <td>5</td>\n",
       "      <td>15</td>\n",
       "      <td>12</td>\n",
       "      <td>50</td>\n",
       "      <td>1</td>\n",
       "      <td>30</td>\n",
       "      <td>12</td>\n",
       "      <td>40</td>\n",
       "    </tr>\n",
       "    <tr>\n",
       "      <th>860</th>\n",
       "      <td>IndiGo</td>\n",
       "      <td>Banglore</td>\n",
       "      <td>New Delhi</td>\n",
       "      <td>BLR → DEL</td>\n",
       "      <td>non-stop</td>\n",
       "      <td>No info</td>\n",
       "      <td>1</td>\n",
       "      <td>3</td>\n",
       "      <td>3</td>\n",
       "      <td>0</td>\n",
       "      <td>40</td>\n",
       "      <td>3</td>\n",
       "      <td>25</td>\n",
       "      <td>2</td>\n",
       "      <td>45</td>\n",
       "    </tr>\n",
       "    <tr>\n",
       "      <th>7270</th>\n",
       "      <td>Jet Airways</td>\n",
       "      <td>Delhi</td>\n",
       "      <td>Cochin</td>\n",
       "      <td>DEL → BOM → COK</td>\n",
       "      <td>1 stop</td>\n",
       "      <td>In-flight meal not included</td>\n",
       "      <td>1</td>\n",
       "      <td>1</td>\n",
       "      <td>6</td>\n",
       "      <td>13</td>\n",
       "      <td>0</td>\n",
       "      <td>4</td>\n",
       "      <td>25</td>\n",
       "      <td>15</td>\n",
       "      <td>25</td>\n",
       "    </tr>\n",
       "  </tbody>\n",
       "</table>\n",
       "<p>8545 rows × 15 columns</p>\n",
       "</div>"
      ],
      "text/plain": [
       "                 Airline    Source Destination                  Route  \\\n",
       "10005  Multiple carriers     Delhi      Cochin        DEL → BOM → COK   \n",
       "3684         Jet Airways     Delhi      Cochin        DEL → BOM → COK   \n",
       "1034            SpiceJet     Delhi      Cochin        DEL → MAA → COK   \n",
       "3909   Multiple carriers     Delhi      Cochin        DEL → BOM → COK   \n",
       "3088           Air India     Delhi      Cochin  DEL → HYD → BOM → COK   \n",
       "...                  ...       ...         ...                    ...   \n",
       "5734         Jet Airways     Delhi      Cochin        DEL → BOM → COK   \n",
       "5191         Jet Airways   Kolkata    Banglore        CCU → BOM → BLR   \n",
       "5390   Multiple carriers     Delhi      Cochin        DEL → BOM → COK   \n",
       "860               IndiGo  Banglore   New Delhi              BLR → DEL   \n",
       "7270         Jet Airways     Delhi      Cochin        DEL → BOM → COK   \n",
       "\n",
       "      Total_Stops              Additional_Info  Date_of_Journey_year  \\\n",
       "10005      1 stop                      No info                     1   \n",
       "3684       1 stop  In-flight meal not included                     1   \n",
       "1034       1 stop                      No info                     1   \n",
       "3909       1 stop                      No info                     1   \n",
       "3088      2 stops                      No info                     1   \n",
       "...           ...                          ...                   ...   \n",
       "5734       1 stop                      No info                     1   \n",
       "5191       1 stop  In-flight meal not included                     1   \n",
       "5390       1 stop                      No info                     1   \n",
       "860      non-stop                      No info                     1   \n",
       "7270       1 stop  In-flight meal not included                     1   \n",
       "\n",
       "       Date_of_Journey_month  Date_of_Journey_day  Dep_Time_hour  \\\n",
       "10005                      5                   27              8   \n",
       "3684                       9                    5             11   \n",
       "1034                       4                   24             15   \n",
       "3909                       3                   21             12   \n",
       "3088                       6                   24             17   \n",
       "...                      ...                  ...            ...   \n",
       "5734                       3                   27              9   \n",
       "5191                       9                    5             14   \n",
       "5390                       5                   15             12   \n",
       "860                        3                    3              0   \n",
       "7270                       1                    6             13   \n",
       "\n",
       "       Dep_Time_minute  Arrival_Time_hour  Arrival_Time_minute Duration_hour  \\\n",
       "10005               30                 19                   15            10   \n",
       "3684                30                 12                   35            25   \n",
       "1034                45                 22                    5             6   \n",
       "3909                50                  1                   35            12   \n",
       "3088                15                 19                   15            26   \n",
       "...                ...                ...                  ...           ...   \n",
       "5734                 0                  4                   25            19   \n",
       "5191                 5                 20                   45             6   \n",
       "5390                50                  1                   30            12   \n",
       "860                 40                  3                   25             2   \n",
       "7270                 0                  4                   25            15   \n",
       "\n",
       "      Duration_min  \n",
       "10005           45  \n",
       "3684             5  \n",
       "1034            20  \n",
       "3909            45  \n",
       "3088             0  \n",
       "...            ...  \n",
       "5734            25  \n",
       "5191            40  \n",
       "5390            40  \n",
       "860             45  \n",
       "7270            25  \n",
       "\n",
       "[8545 rows x 15 columns]"
      ]
     },
     "execution_count": 144,
     "metadata": {},
     "output_type": "execute_result"
    }
   ],
   "source": [
    "DateTransformer().fit_transform(X_train)"
   ]
  },
  {
   "cell_type": "code",
   "execution_count": 491,
   "metadata": {},
   "outputs": [],
   "source": [
    "preprocess_pipeline = Pipeline([\n",
    "    ('date_attribs',DateTransformer()),\n",
    "    ('cat_attribs',cat_pipeline)\n",
    "])"
   ]
  },
  {
   "cell_type": "code",
   "execution_count": 477,
   "metadata": {},
   "outputs": [
    {
     "name": "stdout",
     "output_type": "stream",
     "text": [
      "Airline\n",
      "Source\n",
      "Destination\n",
      "Total_Stops\n",
      "Additional_Info\n",
      "Duration_min\n"
     ]
    },
    {
     "data": {
      "text/html": [
       "<div>\n",
       "<style scoped>\n",
       "    .dataframe tbody tr th:only-of-type {\n",
       "        vertical-align: middle;\n",
       "    }\n",
       "\n",
       "    .dataframe tbody tr th {\n",
       "        vertical-align: top;\n",
       "    }\n",
       "\n",
       "    .dataframe thead th {\n",
       "        text-align: right;\n",
       "    }\n",
       "</style>\n",
       "<table border=\"1\" class=\"dataframe\">\n",
       "  <thead>\n",
       "    <tr style=\"text-align: right;\">\n",
       "      <th></th>\n",
       "      <th>0</th>\n",
       "      <th>1</th>\n",
       "      <th>2</th>\n",
       "      <th>3</th>\n",
       "      <th>4</th>\n",
       "      <th>5</th>\n",
       "      <th>6</th>\n",
       "      <th>7</th>\n",
       "      <th>8</th>\n",
       "      <th>9</th>\n",
       "      <th>10</th>\n",
       "      <th>11</th>\n",
       "      <th>12</th>\n",
       "      <th>13</th>\n",
       "      <th>14</th>\n",
       "      <th>15</th>\n",
       "      <th>16</th>\n",
       "      <th>17</th>\n",
       "      <th>18</th>\n",
       "      <th>19</th>\n",
       "      <th>20</th>\n",
       "    </tr>\n",
       "  </thead>\n",
       "  <tbody>\n",
       "    <tr>\n",
       "      <th>0</th>\n",
       "      <td>0.0</td>\n",
       "      <td>0.0</td>\n",
       "      <td>0.0</td>\n",
       "      <td>0.0</td>\n",
       "      <td>0.0</td>\n",
       "      <td>1.0</td>\n",
       "      <td>0.0</td>\n",
       "      <td>0.0</td>\n",
       "      <td>0.0</td>\n",
       "      <td>0.0</td>\n",
       "      <td>0.0</td>\n",
       "      <td>1.0</td>\n",
       "      <td>0.0</td>\n",
       "      <td>0.0</td>\n",
       "      <td>0.0</td>\n",
       "      <td>1.0</td>\n",
       "      <td>0.0</td>\n",
       "      <td>0.0</td>\n",
       "      <td>0.0</td>\n",
       "      <td>0.0</td>\n",
       "      <td>0.0</td>\n",
       "    </tr>\n",
       "    <tr>\n",
       "      <th>1</th>\n",
       "      <td>0.0</td>\n",
       "      <td>0.0</td>\n",
       "      <td>0.0</td>\n",
       "      <td>0.0</td>\n",
       "      <td>1.0</td>\n",
       "      <td>0.0</td>\n",
       "      <td>0.0</td>\n",
       "      <td>0.0</td>\n",
       "      <td>0.0</td>\n",
       "      <td>0.0</td>\n",
       "      <td>0.0</td>\n",
       "      <td>1.0</td>\n",
       "      <td>0.0</td>\n",
       "      <td>0.0</td>\n",
       "      <td>0.0</td>\n",
       "      <td>1.0</td>\n",
       "      <td>0.0</td>\n",
       "      <td>0.0</td>\n",
       "      <td>0.0</td>\n",
       "      <td>0.0</td>\n",
       "      <td>0.0</td>\n",
       "    </tr>\n",
       "    <tr>\n",
       "      <th>2</th>\n",
       "      <td>0.0</td>\n",
       "      <td>0.0</td>\n",
       "      <td>0.0</td>\n",
       "      <td>0.0</td>\n",
       "      <td>0.0</td>\n",
       "      <td>0.0</td>\n",
       "      <td>0.0</td>\n",
       "      <td>1.0</td>\n",
       "      <td>0.0</td>\n",
       "      <td>0.0</td>\n",
       "      <td>0.0</td>\n",
       "      <td>1.0</td>\n",
       "      <td>0.0</td>\n",
       "      <td>0.0</td>\n",
       "      <td>0.0</td>\n",
       "      <td>1.0</td>\n",
       "      <td>0.0</td>\n",
       "      <td>0.0</td>\n",
       "      <td>0.0</td>\n",
       "      <td>0.0</td>\n",
       "      <td>0.0</td>\n",
       "    </tr>\n",
       "    <tr>\n",
       "      <th>3</th>\n",
       "      <td>0.0</td>\n",
       "      <td>0.0</td>\n",
       "      <td>0.0</td>\n",
       "      <td>0.0</td>\n",
       "      <td>0.0</td>\n",
       "      <td>1.0</td>\n",
       "      <td>0.0</td>\n",
       "      <td>0.0</td>\n",
       "      <td>0.0</td>\n",
       "      <td>0.0</td>\n",
       "      <td>0.0</td>\n",
       "      <td>1.0</td>\n",
       "      <td>0.0</td>\n",
       "      <td>0.0</td>\n",
       "      <td>0.0</td>\n",
       "      <td>1.0</td>\n",
       "      <td>0.0</td>\n",
       "      <td>0.0</td>\n",
       "      <td>0.0</td>\n",
       "      <td>0.0</td>\n",
       "      <td>0.0</td>\n",
       "    </tr>\n",
       "    <tr>\n",
       "      <th>4</th>\n",
       "      <td>0.0</td>\n",
       "      <td>1.0</td>\n",
       "      <td>0.0</td>\n",
       "      <td>0.0</td>\n",
       "      <td>0.0</td>\n",
       "      <td>0.0</td>\n",
       "      <td>0.0</td>\n",
       "      <td>0.0</td>\n",
       "      <td>0.0</td>\n",
       "      <td>0.0</td>\n",
       "      <td>0.0</td>\n",
       "      <td>1.0</td>\n",
       "      <td>0.0</td>\n",
       "      <td>0.0</td>\n",
       "      <td>0.0</td>\n",
       "      <td>1.0</td>\n",
       "      <td>0.0</td>\n",
       "      <td>0.0</td>\n",
       "      <td>0.0</td>\n",
       "      <td>0.0</td>\n",
       "      <td>1.0</td>\n",
       "    </tr>\n",
       "    <tr>\n",
       "      <th>...</th>\n",
       "      <td>...</td>\n",
       "      <td>...</td>\n",
       "      <td>...</td>\n",
       "      <td>...</td>\n",
       "      <td>...</td>\n",
       "      <td>...</td>\n",
       "      <td>...</td>\n",
       "      <td>...</td>\n",
       "      <td>...</td>\n",
       "      <td>...</td>\n",
       "      <td>...</td>\n",
       "      <td>...</td>\n",
       "      <td>...</td>\n",
       "      <td>...</td>\n",
       "      <td>...</td>\n",
       "      <td>...</td>\n",
       "      <td>...</td>\n",
       "      <td>...</td>\n",
       "      <td>...</td>\n",
       "      <td>...</td>\n",
       "      <td>...</td>\n",
       "    </tr>\n",
       "    <tr>\n",
       "      <th>8521</th>\n",
       "      <td>0.0</td>\n",
       "      <td>0.0</td>\n",
       "      <td>0.0</td>\n",
       "      <td>0.0</td>\n",
       "      <td>1.0</td>\n",
       "      <td>0.0</td>\n",
       "      <td>0.0</td>\n",
       "      <td>0.0</td>\n",
       "      <td>0.0</td>\n",
       "      <td>0.0</td>\n",
       "      <td>0.0</td>\n",
       "      <td>1.0</td>\n",
       "      <td>0.0</td>\n",
       "      <td>0.0</td>\n",
       "      <td>0.0</td>\n",
       "      <td>1.0</td>\n",
       "      <td>0.0</td>\n",
       "      <td>0.0</td>\n",
       "      <td>0.0</td>\n",
       "      <td>0.0</td>\n",
       "      <td>0.0</td>\n",
       "    </tr>\n",
       "    <tr>\n",
       "      <th>8522</th>\n",
       "      <td>0.0</td>\n",
       "      <td>0.0</td>\n",
       "      <td>0.0</td>\n",
       "      <td>0.0</td>\n",
       "      <td>1.0</td>\n",
       "      <td>0.0</td>\n",
       "      <td>0.0</td>\n",
       "      <td>0.0</td>\n",
       "      <td>0.0</td>\n",
       "      <td>0.0</td>\n",
       "      <td>0.0</td>\n",
       "      <td>0.0</td>\n",
       "      <td>1.0</td>\n",
       "      <td>0.0</td>\n",
       "      <td>1.0</td>\n",
       "      <td>0.0</td>\n",
       "      <td>0.0</td>\n",
       "      <td>0.0</td>\n",
       "      <td>0.0</td>\n",
       "      <td>0.0</td>\n",
       "      <td>0.0</td>\n",
       "    </tr>\n",
       "    <tr>\n",
       "      <th>8523</th>\n",
       "      <td>0.0</td>\n",
       "      <td>0.0</td>\n",
       "      <td>0.0</td>\n",
       "      <td>0.0</td>\n",
       "      <td>0.0</td>\n",
       "      <td>1.0</td>\n",
       "      <td>0.0</td>\n",
       "      <td>0.0</td>\n",
       "      <td>0.0</td>\n",
       "      <td>0.0</td>\n",
       "      <td>0.0</td>\n",
       "      <td>1.0</td>\n",
       "      <td>0.0</td>\n",
       "      <td>0.0</td>\n",
       "      <td>0.0</td>\n",
       "      <td>1.0</td>\n",
       "      <td>0.0</td>\n",
       "      <td>0.0</td>\n",
       "      <td>0.0</td>\n",
       "      <td>0.0</td>\n",
       "      <td>0.0</td>\n",
       "    </tr>\n",
       "    <tr>\n",
       "      <th>8524</th>\n",
       "      <td>0.0</td>\n",
       "      <td>0.0</td>\n",
       "      <td>0.0</td>\n",
       "      <td>1.0</td>\n",
       "      <td>0.0</td>\n",
       "      <td>0.0</td>\n",
       "      <td>0.0</td>\n",
       "      <td>0.0</td>\n",
       "      <td>0.0</td>\n",
       "      <td>1.0</td>\n",
       "      <td>0.0</td>\n",
       "      <td>0.0</td>\n",
       "      <td>0.0</td>\n",
       "      <td>0.0</td>\n",
       "      <td>0.0</td>\n",
       "      <td>0.0</td>\n",
       "      <td>0.0</td>\n",
       "      <td>0.0</td>\n",
       "      <td>0.0</td>\n",
       "      <td>1.0</td>\n",
       "      <td>3.0</td>\n",
       "    </tr>\n",
       "    <tr>\n",
       "      <th>8525</th>\n",
       "      <td>0.0</td>\n",
       "      <td>0.0</td>\n",
       "      <td>0.0</td>\n",
       "      <td>0.0</td>\n",
       "      <td>1.0</td>\n",
       "      <td>0.0</td>\n",
       "      <td>0.0</td>\n",
       "      <td>0.0</td>\n",
       "      <td>0.0</td>\n",
       "      <td>0.0</td>\n",
       "      <td>0.0</td>\n",
       "      <td>1.0</td>\n",
       "      <td>0.0</td>\n",
       "      <td>0.0</td>\n",
       "      <td>0.0</td>\n",
       "      <td>1.0</td>\n",
       "      <td>0.0</td>\n",
       "      <td>0.0</td>\n",
       "      <td>0.0</td>\n",
       "      <td>0.0</td>\n",
       "      <td>0.0</td>\n",
       "    </tr>\n",
       "  </tbody>\n",
       "</table>\n",
       "<p>8526 rows × 21 columns</p>\n",
       "</div>"
      ],
      "text/plain": [
       "       0    1    2    3    4    5    6    7    8    9    10   11   12   13  \\\n",
       "0     0.0  0.0  0.0  0.0  0.0  1.0  0.0  0.0  0.0  0.0  0.0  1.0  0.0  0.0   \n",
       "1     0.0  0.0  0.0  0.0  1.0  0.0  0.0  0.0  0.0  0.0  0.0  1.0  0.0  0.0   \n",
       "2     0.0  0.0  0.0  0.0  0.0  0.0  0.0  1.0  0.0  0.0  0.0  1.0  0.0  0.0   \n",
       "3     0.0  0.0  0.0  0.0  0.0  1.0  0.0  0.0  0.0  0.0  0.0  1.0  0.0  0.0   \n",
       "4     0.0  1.0  0.0  0.0  0.0  0.0  0.0  0.0  0.0  0.0  0.0  1.0  0.0  0.0   \n",
       "...   ...  ...  ...  ...  ...  ...  ...  ...  ...  ...  ...  ...  ...  ...   \n",
       "8521  0.0  0.0  0.0  0.0  1.0  0.0  0.0  0.0  0.0  0.0  0.0  1.0  0.0  0.0   \n",
       "8522  0.0  0.0  0.0  0.0  1.0  0.0  0.0  0.0  0.0  0.0  0.0  0.0  1.0  0.0   \n",
       "8523  0.0  0.0  0.0  0.0  0.0  1.0  0.0  0.0  0.0  0.0  0.0  1.0  0.0  0.0   \n",
       "8524  0.0  0.0  0.0  1.0  0.0  0.0  0.0  0.0  0.0  1.0  0.0  0.0  0.0  0.0   \n",
       "8525  0.0  0.0  0.0  0.0  1.0  0.0  0.0  0.0  0.0  0.0  0.0  1.0  0.0  0.0   \n",
       "\n",
       "       14   15   16   17   18   19   20  \n",
       "0     0.0  1.0  0.0  0.0  0.0  0.0  0.0  \n",
       "1     0.0  1.0  0.0  0.0  0.0  0.0  0.0  \n",
       "2     0.0  1.0  0.0  0.0  0.0  0.0  0.0  \n",
       "3     0.0  1.0  0.0  0.0  0.0  0.0  0.0  \n",
       "4     0.0  1.0  0.0  0.0  0.0  0.0  1.0  \n",
       "...   ...  ...  ...  ...  ...  ...  ...  \n",
       "8521  0.0  1.0  0.0  0.0  0.0  0.0  0.0  \n",
       "8522  1.0  0.0  0.0  0.0  0.0  0.0  0.0  \n",
       "8523  0.0  1.0  0.0  0.0  0.0  0.0  0.0  \n",
       "8524  0.0  0.0  0.0  0.0  0.0  1.0  3.0  \n",
       "8525  0.0  1.0  0.0  0.0  0.0  0.0  0.0  \n",
       "\n",
       "[8526 rows x 21 columns]"
      ]
     },
     "execution_count": 477,
     "metadata": {},
     "output_type": "execute_result"
    }
   ],
   "source": [
    "pd.DataFrame(preprocess_pipeline.fit_transform(X_train).toarray())"
   ]
  },
  {
   "cell_type": "markdown",
   "metadata": {},
   "source": [
    "Preprocessing is done,lets move on to the feature selection and model"
   ]
  },
  {
   "cell_type": "code",
   "execution_count": 171,
   "metadata": {},
   "outputs": [
    {
     "data": {
      "text/plain": [
       "0.717501570540346"
      ]
     },
     "execution_count": 171,
     "metadata": {},
     "output_type": "execute_result"
    }
   ],
   "source": [
    "ext_tree = ExtraTreesRegressor(n_estimators=3000).fit(preprocess_pipeline.transform(X_train),y_train)\n",
    "ext_tree.score(preprocess_pipeline.transform(X_test),y_test)"
   ]
  },
  {
   "cell_type": "code",
   "execution_count": 172,
   "metadata": {},
   "outputs": [
    {
     "data": {
      "text/plain": [
       "array([3.26204300e-03, 1.16807541e-02, 1.62243737e-03, 1.78678352e-02,\n",
       "       1.33541838e-01, 9.04237250e-02, 2.89773345e-02, 1.32514539e-03,\n",
       "       4.93767453e-03, 1.97949606e-04, 6.57219707e-03, 1.89860525e-04,\n",
       "       9.95263964e-03, 4.91197688e-05, 4.52318682e-03, 1.98886500e-03,\n",
       "       6.59045276e-03, 1.95781636e-03, 4.80994135e-03, 3.38753697e-03,\n",
       "       6.44882737e-03, 4.82365420e-05, 1.83942245e-02, 5.11540352e-01,\n",
       "       1.29710006e-01])"
      ]
     },
     "execution_count": 172,
     "metadata": {},
     "output_type": "execute_result"
    }
   ],
   "source": [
    "ext_tree.feature_importances_"
   ]
  },
  {
   "cell_type": "code",
   "execution_count": 183,
   "metadata": {},
   "outputs": [
    {
     "data": {
      "text/plain": [
       "array([5.11540352e-01, 1.33541838e-01, 1.29710006e-01, 9.04237250e-02,\n",
       "       2.89773345e-02, 1.83942245e-02, 1.78678352e-02, 1.16807541e-02,\n",
       "       9.95263964e-03, 6.59045276e-03, 6.57219707e-03, 6.44882737e-03,\n",
       "       4.93767453e-03, 4.80994135e-03, 4.52318682e-03, 3.38753697e-03,\n",
       "       3.26204300e-03, 1.98886500e-03, 1.95781636e-03, 1.62243737e-03,\n",
       "       1.32514539e-03, 1.97949606e-04, 1.89860525e-04, 4.91197688e-05,\n",
       "       4.82365420e-05])"
      ]
     },
     "execution_count": 183,
     "metadata": {},
     "output_type": "execute_result"
    }
   ],
   "source": [
    "np.sort(ext_tree.feature_importances_)[::-1]\n"
   ]
  },
  {
   "cell_type": "markdown",
   "metadata": {},
   "source": [
    "lets check feature importance with lasso regression"
   ]
  },
  {
   "cell_type": "code",
   "execution_count": 216,
   "metadata": {},
   "outputs": [
    {
     "data": {
      "text/plain": [
       "13"
      ]
     },
     "execution_count": 216,
     "metadata": {},
     "output_type": "execute_result"
    }
   ],
   "source": [
    "sgd = SelectFromModel(SGDRegressor(penalty=\"l1\",alpha=1),threshold=\"median\").fit(preprocess_pipeline.transform(X_train),y_train)\n",
    "sgd.get_support().sum()"
   ]
  },
  {
   "cell_type": "code",
   "execution_count": 217,
   "metadata": {},
   "outputs": [
    {
     "data": {
      "text/plain": [
       "array([-2346.31046061,   813.27207318, -2267.44828991, -2230.01269071,\n",
       "        3760.57989554,  8065.71010096,   935.10096498,   257.89040314,\n",
       "       -2194.27999276,     0.        ,  -222.60862487,     0.        ,\n",
       "        1312.63281665,   696.06178662,  1001.62959105,   700.83961168,\n",
       "        -104.51976257,   700.83961168,  1001.62959105,  -965.27649097,\n",
       "        -104.51976257,   696.06178662,  2588.92453276,  -702.35485854,\n",
       "        1030.57822592])"
      ]
     },
     "execution_count": 217,
     "metadata": {},
     "output_type": "execute_result"
    }
   ],
   "source": [
    "sgd.estimator_.coef_ "
   ]
  },
  {
   "cell_type": "code",
   "execution_count": 280,
   "metadata": {},
   "outputs": [],
   "source": [
    "sgd_reg = SGDRegressor(penalty=\"l1\",alpha=1e-4).fit(preprocess_pipeline.transform(X_train),y_train)"
   ]
  },
  {
   "cell_type": "code",
   "execution_count": 281,
   "metadata": {},
   "outputs": [
    {
     "data": {
      "text/plain": [
       "0.5562148937928526"
      ]
     },
     "execution_count": 281,
     "metadata": {},
     "output_type": "execute_result"
    }
   ],
   "source": [
    "sgd_reg.score(preprocess_pipeline.transform(X_train),y_train)"
   ]
  },
  {
   "cell_type": "code",
   "execution_count": 223,
   "metadata": {},
   "outputs": [
    {
     "data": {
      "text/plain": [
       "3036.774461338396"
      ]
     },
     "execution_count": 223,
     "metadata": {},
     "output_type": "execute_result"
    }
   ],
   "source": [
    "np.sqrt(mean_squared_error(sgd_reg.predict(preprocess_pipeline.transform(X_test)),y_test))"
   ]
  },
  {
   "cell_type": "code",
   "execution_count": 354,
   "metadata": {},
   "outputs": [],
   "source": [
    "rnd = SelectFromModel(RandomForestRegressor(n_estimators=100),threshold=\"0.05*mean\").fit(preprocess_pipeline.transform(X_train),y_train)\n"
   ]
  },
  {
   "cell_type": "code",
   "execution_count": 355,
   "metadata": {},
   "outputs": [
    {
     "data": {
      "text/plain": [
       "18"
      ]
     },
     "execution_count": 355,
     "metadata": {},
     "output_type": "execute_result"
    }
   ],
   "source": [
    "rnd.get_support().sum()"
   ]
  },
  {
   "cell_type": "code",
   "execution_count": 283,
   "metadata": {},
   "outputs": [
    {
     "data": {
      "text/plain": [
       "2373.3844126476765"
      ]
     },
     "execution_count": 283,
     "metadata": {},
     "output_type": "execute_result"
    }
   ],
   "source": [
    "np.sqrt(mean_squared_error(rnd.predict(preprocess_pipeline.transform(X_train)),y_train))"
   ]
  },
  {
   "cell_type": "code",
   "execution_count": 286,
   "metadata": {},
   "outputs": [
    {
     "data": {
      "text/plain": [
       "array([2.32516835e-03, 9.86261059e-03, 1.27318906e-03, 2.53740893e-02,\n",
       "       9.65548630e-02, 8.49949211e-02, 3.21235426e-02, 1.23629441e-03,\n",
       "       4.68660176e-03, 2.09820572e-04, 5.25081365e-03, 1.54081116e-04,\n",
       "       1.07561649e-02, 1.96557165e-04, 3.91363389e-03, 2.06351478e-03,\n",
       "       6.59630660e-03, 2.13547192e-03, 3.78938690e-03, 4.90641403e-04,\n",
       "       6.40419545e-03, 2.19089135e-04, 1.84742992e-02, 5.52396319e-01,\n",
       "       1.28518424e-01])"
      ]
     },
     "execution_count": 286,
     "metadata": {},
     "output_type": "execute_result"
    }
   ],
   "source": [
    "rnd.feature_importances_"
   ]
  },
  {
   "cell_type": "code",
   "execution_count": 266,
   "metadata": {},
   "outputs": [],
   "source": [
    "\n",
    "estimators = [\n",
    "    ('rnd' , RandomForestRegressor(n_estimators=1000)),\n",
    "    ('grad' , GradientBoostingRegressor()),\n",
    "    ('decision',DecisionTreeRegressor())\n",
    "    ('linear',SGDRegressor(penalty=\"l1\"))\n",
    "]\n",
    "vote = VotingRegressor(estimators).fit(preprocess_pipeline.transform(X_train),y_train)\n"
   ]
  },
  {
   "cell_type": "code",
   "execution_count": 267,
   "metadata": {},
   "outputs": [
    {
     "data": {
      "text/plain": [
       "2466.217268649823"
      ]
     },
     "execution_count": 267,
     "metadata": {},
     "output_type": "execute_result"
    }
   ],
   "source": [
    "np.sqrt(mean_squared_error(vote.predict(preprocess_pipeline.transform(X_test)),y_test))"
   ]
  },
  {
   "cell_type": "code",
   "execution_count": 268,
   "metadata": {},
   "outputs": [
    {
     "data": {
      "text/plain": [
       "[2479.987313922991, 2478.139628322792]"
      ]
     },
     "execution_count": 268,
     "metadata": {},
     "output_type": "execute_result"
    }
   ],
   "source": [
    "[np.sqrt(mean_squared_error(estimator.predict(preprocess_pipeline.transform(X_test)),y_test)) for estimator in vote.estimators_]"
   ]
  },
  {
   "cell_type": "code",
   "execution_count": 505,
   "metadata": {},
   "outputs": [],
   "source": [
    "final_pipeline = Pipeline([\n",
    "    ('preprocess',preprocess_pipeline),\n",
    "    ('feature_select',SelectFromModel(RandomForestRegressor(n_estimators=500),threshold=\"0.05*mean\")),\n",
    "    ('random_forest',RandomForestRegressor(n_estimators=100))\n",
    "])\n",
    "\n",
    "final_pipeline_dec = Pipeline([\n",
    "    ('preprocess',preprocess_pipeline),\n",
    "    ('feature_select',SelectFromModel(RandomForestRegressor(n_estimators=500),threshold=\"0.05*mean\")),\n",
    "    ('random_forest',DecisionTreeRegressor())\n",
    "])\n",
    "#final_pipeline.fit(X_train,y_train)"
   ]
  },
  {
   "cell_type": "code",
   "execution_count": 377,
   "metadata": {},
   "outputs": [
    {
     "data": {
      "text/plain": [
       "0.7135218788290764"
      ]
     },
     "execution_count": 377,
     "metadata": {},
     "output_type": "execute_result"
    }
   ],
   "source": [
    "final_pipeline.score(X_test,y_test)"
   ]
  },
  {
   "cell_type": "code",
   "execution_count": 365,
   "metadata": {},
   "outputs": [
    {
     "data": {
      "text/plain": [
       "array([16220.01227354,  7650.38035916,  9287.4392003 ,  4516.437881  ,\n",
       "       10647.80840793])"
      ]
     },
     "execution_count": 365,
     "metadata": {},
     "output_type": "execute_result"
    }
   ],
   "source": [
    "final_pipeline.predict(X_test[:5])"
   ]
  },
  {
   "cell_type": "code",
   "execution_count": 366,
   "metadata": {},
   "outputs": [
    {
     "data": {
      "text/plain": [
       "6075    16655\n",
       "3544     4959\n",
       "9291     9187\n",
       "5032     3858\n",
       "2483    12898\n",
       "Name: Price, dtype: int64"
      ]
     },
     "execution_count": 366,
     "metadata": {},
     "output_type": "execute_result"
    }
   ],
   "source": [
    "y_test[:5]"
   ]
  },
  {
   "cell_type": "code",
   "execution_count": 367,
   "metadata": {},
   "outputs": [
    {
     "data": {
      "text/plain": [
       "0.7328935725870933"
      ]
     },
     "execution_count": 367,
     "metadata": {},
     "output_type": "execute_result"
    }
   ],
   "source": [
    "final_pipeline.score(X_train,y_train)"
   ]
  },
  {
   "cell_type": "code",
   "execution_count": 338,
   "metadata": {},
   "outputs": [
    {
     "data": {
      "text/plain": [
       "('criterion',\n",
       " 'max_depth',\n",
       " 'min_samples_split',\n",
       " 'min_samples_leaf',\n",
       " 'min_weight_fraction_leaf',\n",
       " 'max_features',\n",
       " 'max_leaf_nodes',\n",
       " 'min_impurity_decrease',\n",
       " 'min_impurity_split',\n",
       " 'random_state',\n",
       " 'ccp_alpha')"
      ]
     },
     "execution_count": 338,
     "metadata": {},
     "output_type": "execute_result"
    }
   ],
   "source": [
    "r = final_pipeline['random_forest']\n",
    "r.estimator_params"
   ]
  },
  {
   "cell_type": "code",
   "execution_count": 314,
   "metadata": {},
   "outputs": [
    {
     "data": {
      "text/plain": [
       "{'bootstrap': True,\n",
       " 'ccp_alpha': 0.0,\n",
       " 'criterion': 'mse',\n",
       " 'max_depth': None,\n",
       " 'max_features': 'auto',\n",
       " 'max_leaf_nodes': None,\n",
       " 'max_samples': None,\n",
       " 'min_impurity_decrease': 0.0,\n",
       " 'min_impurity_split': None,\n",
       " 'min_samples_leaf': 1,\n",
       " 'min_samples_split': 2,\n",
       " 'min_weight_fraction_leaf': 0.0,\n",
       " 'n_estimators': 100,\n",
       " 'n_jobs': None,\n",
       " 'oob_score': False,\n",
       " 'random_state': None,\n",
       " 'verbose': 0,\n",
       " 'warm_start': False}"
      ]
     },
     "execution_count": 314,
     "metadata": {},
     "output_type": "execute_result"
    }
   ],
   "source": [
    "RandomForestRegressor()."
   ]
  },
  {
   "cell_type": "markdown",
   "metadata": {},
   "source": [
    "Hyper Parameter tuning"
   ]
  },
  {
   "cell_type": "code",
   "execution_count": 514,
   "metadata": {},
   "outputs": [],
   "source": [
    "params_grid = [{\n",
    "    'feature_select__threshold' : [\"{}*mean\".format(i) for i in np.random.uniform(low=0.01,high=0.2,size=5)],\n",
    "    'random_forest__criterion' : ['mae','mse'],\n",
    "    'random_forest__max_depth' : list(range(2,10,2))+[None],\n",
    "    'random_forest__max_leaf_nodes' : list(range(2,10,2))+[None],\n",
    "    'random_forest__random_state' : [42]\n",
    "}]\n",
    "\n",
    "#Randomized Search CV\n",
    "\n",
    "# Number of trees in random forest\n",
    "n_estimators = [int(x) for x in np.linspace(start = 100, stop = 1200, num = 12)]\n",
    "# Number of features to consider at every split\n",
    "max_features = ['auto', 'sqrt']\n",
    "# Maximum number of levels in tree\n",
    "max_depth = [int(x) for x in np.linspace(5, 30, num = 6)]\n",
    "# Minimum number of samples required to split a node\n",
    "min_samples_split = [2, 5, 10, 15, 100]\n",
    "# Minimum number of samples required at each leaf node\n",
    "min_samples_leaf = [1, 2, 5, 10]\n",
    "\n",
    "random_grid = {'random_forest__n_estimators': n_estimators,\n",
    "               'random_forest__max_features': max_features,\n",
    "               'random_forest__max_depth': max_depth,\n",
    "               'random_forest__min_samples_split': min_samples_split,\n",
    "               'random_forest__min_samples_leaf': min_samples_leaf}\n",
    "random_search = RandomizedSearchCV(final_pipeline,random_grid,cv=5, scoring=\"neg_mean_squared_error\",verbose=3,random_state=42)"
   ]
  },
  {
   "cell_type": "code",
   "execution_count": 515,
   "metadata": {},
   "outputs": [
    {
     "name": "stdout",
     "output_type": "stream",
     "text": [
      "Fitting 5 folds for each of 10 candidates, totalling 50 fits\n",
      "[CV] random_forest__n_estimators=900, random_forest__min_samples_split=5, random_forest__min_samples_leaf=5, random_forest__max_features=sqrt, random_forest__max_depth=10 \n"
     ]
    },
    {
     "name": "stderr",
     "output_type": "stream",
     "text": [
      "[Parallel(n_jobs=1)]: Using backend SequentialBackend with 1 concurrent workers.\n"
     ]
    },
    {
     "name": "stdout",
     "output_type": "stream",
     "text": [
      "[CV]  random_forest__n_estimators=900, random_forest__min_samples_split=5, random_forest__min_samples_leaf=5, random_forest__max_features=sqrt, random_forest__max_depth=10, score=-6807871.412, total=   7.8s\n",
      "[CV] random_forest__n_estimators=900, random_forest__min_samples_split=5, random_forest__min_samples_leaf=5, random_forest__max_features=sqrt, random_forest__max_depth=10 \n"
     ]
    },
    {
     "name": "stderr",
     "output_type": "stream",
     "text": [
      "[Parallel(n_jobs=1)]: Done   1 out of   1 | elapsed:    7.8s remaining:    0.0s\n"
     ]
    },
    {
     "name": "stdout",
     "output_type": "stream",
     "text": [
      "[CV]  random_forest__n_estimators=900, random_forest__min_samples_split=5, random_forest__min_samples_leaf=5, random_forest__max_features=sqrt, random_forest__max_depth=10, score=-5248421.394, total=   8.2s\n",
      "[CV] random_forest__n_estimators=900, random_forest__min_samples_split=5, random_forest__min_samples_leaf=5, random_forest__max_features=sqrt, random_forest__max_depth=10 \n"
     ]
    },
    {
     "name": "stderr",
     "output_type": "stream",
     "text": [
      "[Parallel(n_jobs=1)]: Done   2 out of   2 | elapsed:   15.9s remaining:    0.0s\n"
     ]
    },
    {
     "name": "stdout",
     "output_type": "stream",
     "text": [
      "[CV]  random_forest__n_estimators=900, random_forest__min_samples_split=5, random_forest__min_samples_leaf=5, random_forest__max_features=sqrt, random_forest__max_depth=10, score=-5157369.159, total=   8.2s\n",
      "[CV] random_forest__n_estimators=900, random_forest__min_samples_split=5, random_forest__min_samples_leaf=5, random_forest__max_features=sqrt, random_forest__max_depth=10 \n",
      "[CV]  random_forest__n_estimators=900, random_forest__min_samples_split=5, random_forest__min_samples_leaf=5, random_forest__max_features=sqrt, random_forest__max_depth=10, score=-7307853.787, total=   7.6s\n",
      "[CV] random_forest__n_estimators=900, random_forest__min_samples_split=5, random_forest__min_samples_leaf=5, random_forest__max_features=sqrt, random_forest__max_depth=10 \n",
      "[CV]  random_forest__n_estimators=900, random_forest__min_samples_split=5, random_forest__min_samples_leaf=5, random_forest__max_features=sqrt, random_forest__max_depth=10, score=-6226784.160, total=   8.1s\n",
      "[CV] random_forest__n_estimators=1100, random_forest__min_samples_split=10, random_forest__min_samples_leaf=2, random_forest__max_features=sqrt, random_forest__max_depth=15 \n",
      "[CV]  random_forest__n_estimators=1100, random_forest__min_samples_split=10, random_forest__min_samples_leaf=2, random_forest__max_features=sqrt, random_forest__max_depth=15, score=-6371570.207, total=   9.7s\n",
      "[CV] random_forest__n_estimators=1100, random_forest__min_samples_split=10, random_forest__min_samples_leaf=2, random_forest__max_features=sqrt, random_forest__max_depth=15 \n",
      "[CV]  random_forest__n_estimators=1100, random_forest__min_samples_split=10, random_forest__min_samples_leaf=2, random_forest__max_features=sqrt, random_forest__max_depth=15, score=-5095232.977, total=  10.0s\n",
      "[CV] random_forest__n_estimators=1100, random_forest__min_samples_split=10, random_forest__min_samples_leaf=2, random_forest__max_features=sqrt, random_forest__max_depth=15 \n",
      "[CV]  random_forest__n_estimators=1100, random_forest__min_samples_split=10, random_forest__min_samples_leaf=2, random_forest__max_features=sqrt, random_forest__max_depth=15, score=-5050362.908, total=  10.2s\n",
      "[CV] random_forest__n_estimators=1100, random_forest__min_samples_split=10, random_forest__min_samples_leaf=2, random_forest__max_features=sqrt, random_forest__max_depth=15 \n",
      "[CV]  random_forest__n_estimators=1100, random_forest__min_samples_split=10, random_forest__min_samples_leaf=2, random_forest__max_features=sqrt, random_forest__max_depth=15, score=-6879190.828, total=   9.2s\n",
      "[CV] random_forest__n_estimators=1100, random_forest__min_samples_split=10, random_forest__min_samples_leaf=2, random_forest__max_features=sqrt, random_forest__max_depth=15 \n",
      "[CV]  random_forest__n_estimators=1100, random_forest__min_samples_split=10, random_forest__min_samples_leaf=2, random_forest__max_features=sqrt, random_forest__max_depth=15, score=-6021909.656, total=   9.9s\n",
      "[CV] random_forest__n_estimators=300, random_forest__min_samples_split=100, random_forest__min_samples_leaf=5, random_forest__max_features=auto, random_forest__max_depth=15 \n",
      "[CV]  random_forest__n_estimators=300, random_forest__min_samples_split=100, random_forest__min_samples_leaf=5, random_forest__max_features=auto, random_forest__max_depth=15, score=-6670688.489, total=   5.6s\n",
      "[CV] random_forest__n_estimators=300, random_forest__min_samples_split=100, random_forest__min_samples_leaf=5, random_forest__max_features=auto, random_forest__max_depth=15 \n",
      "[CV]  random_forest__n_estimators=300, random_forest__min_samples_split=100, random_forest__min_samples_leaf=5, random_forest__max_features=auto, random_forest__max_depth=15, score=-5259786.779, total=   6.1s\n",
      "[CV] random_forest__n_estimators=300, random_forest__min_samples_split=100, random_forest__min_samples_leaf=5, random_forest__max_features=auto, random_forest__max_depth=15 \n",
      "[CV]  random_forest__n_estimators=300, random_forest__min_samples_split=100, random_forest__min_samples_leaf=5, random_forest__max_features=auto, random_forest__max_depth=15, score=-5094151.148, total=   6.3s\n",
      "[CV] random_forest__n_estimators=300, random_forest__min_samples_split=100, random_forest__min_samples_leaf=5, random_forest__max_features=auto, random_forest__max_depth=15 \n",
      "[CV]  random_forest__n_estimators=300, random_forest__min_samples_split=100, random_forest__min_samples_leaf=5, random_forest__max_features=auto, random_forest__max_depth=15, score=-7339219.687, total=   5.6s\n",
      "[CV] random_forest__n_estimators=300, random_forest__min_samples_split=100, random_forest__min_samples_leaf=5, random_forest__max_features=auto, random_forest__max_depth=15 \n",
      "[CV]  random_forest__n_estimators=300, random_forest__min_samples_split=100, random_forest__min_samples_leaf=5, random_forest__max_features=auto, random_forest__max_depth=15, score=-5997459.168, total=   5.9s\n",
      "[CV] random_forest__n_estimators=400, random_forest__min_samples_split=5, random_forest__min_samples_leaf=5, random_forest__max_features=auto, random_forest__max_depth=15 \n",
      "[CV]  random_forest__n_estimators=400, random_forest__min_samples_split=5, random_forest__min_samples_leaf=5, random_forest__max_features=auto, random_forest__max_depth=15, score=-6633880.313, total=   6.7s\n",
      "[CV] random_forest__n_estimators=400, random_forest__min_samples_split=5, random_forest__min_samples_leaf=5, random_forest__max_features=auto, random_forest__max_depth=15 \n",
      "[CV]  random_forest__n_estimators=400, random_forest__min_samples_split=5, random_forest__min_samples_leaf=5, random_forest__max_features=auto, random_forest__max_depth=15, score=-5213213.782, total=   7.1s\n",
      "[CV] random_forest__n_estimators=400, random_forest__min_samples_split=5, random_forest__min_samples_leaf=5, random_forest__max_features=auto, random_forest__max_depth=15 \n",
      "[CV]  random_forest__n_estimators=400, random_forest__min_samples_split=5, random_forest__min_samples_leaf=5, random_forest__max_features=auto, random_forest__max_depth=15, score=-5048063.170, total=   6.8s\n",
      "[CV] random_forest__n_estimators=400, random_forest__min_samples_split=5, random_forest__min_samples_leaf=5, random_forest__max_features=auto, random_forest__max_depth=15 \n",
      "[CV]  random_forest__n_estimators=400, random_forest__min_samples_split=5, random_forest__min_samples_leaf=5, random_forest__max_features=auto, random_forest__max_depth=15, score=-7292568.609, total=   6.4s\n",
      "[CV] random_forest__n_estimators=400, random_forest__min_samples_split=5, random_forest__min_samples_leaf=5, random_forest__max_features=auto, random_forest__max_depth=15 \n",
      "[CV]  random_forest__n_estimators=400, random_forest__min_samples_split=5, random_forest__min_samples_leaf=5, random_forest__max_features=auto, random_forest__max_depth=15, score=-6012561.513, total=   6.9s\n",
      "[CV] random_forest__n_estimators=700, random_forest__min_samples_split=5, random_forest__min_samples_leaf=10, random_forest__max_features=auto, random_forest__max_depth=20 \n",
      "[CV]  random_forest__n_estimators=700, random_forest__min_samples_split=5, random_forest__min_samples_leaf=10, random_forest__max_features=auto, random_forest__max_depth=20, score=-6925569.055, total=   8.1s\n",
      "[CV] random_forest__n_estimators=700, random_forest__min_samples_split=5, random_forest__min_samples_leaf=10, random_forest__max_features=auto, random_forest__max_depth=20 \n",
      "[CV]  random_forest__n_estimators=700, random_forest__min_samples_split=5, random_forest__min_samples_leaf=10, random_forest__max_features=auto, random_forest__max_depth=20, score=-5498027.708, total=   8.9s\n",
      "[CV] random_forest__n_estimators=700, random_forest__min_samples_split=5, random_forest__min_samples_leaf=10, random_forest__max_features=auto, random_forest__max_depth=20 \n",
      "[CV]  random_forest__n_estimators=700, random_forest__min_samples_split=5, random_forest__min_samples_leaf=10, random_forest__max_features=auto, random_forest__max_depth=20, score=-5146510.499, total=   8.6s\n",
      "[CV] random_forest__n_estimators=700, random_forest__min_samples_split=5, random_forest__min_samples_leaf=10, random_forest__max_features=auto, random_forest__max_depth=20 \n",
      "[CV]  random_forest__n_estimators=700, random_forest__min_samples_split=5, random_forest__min_samples_leaf=10, random_forest__max_features=auto, random_forest__max_depth=20, score=-7660325.138, total=   7.9s\n",
      "[CV] random_forest__n_estimators=700, random_forest__min_samples_split=5, random_forest__min_samples_leaf=10, random_forest__max_features=auto, random_forest__max_depth=20 \n"
     ]
    },
    {
     "name": "stdout",
     "output_type": "stream",
     "text": [
      "[CV]  random_forest__n_estimators=700, random_forest__min_samples_split=5, random_forest__min_samples_leaf=10, random_forest__max_features=auto, random_forest__max_depth=20, score=-6215736.504, total=   8.9s\n",
      "[CV] random_forest__n_estimators=1000, random_forest__min_samples_split=2, random_forest__min_samples_leaf=1, random_forest__max_features=sqrt, random_forest__max_depth=25 \n",
      "[CV]  random_forest__n_estimators=1000, random_forest__min_samples_split=2, random_forest__min_samples_leaf=1, random_forest__max_features=sqrt, random_forest__max_depth=25, score=-6319638.378, total=   9.4s\n",
      "[CV] random_forest__n_estimators=1000, random_forest__min_samples_split=2, random_forest__min_samples_leaf=1, random_forest__max_features=sqrt, random_forest__max_depth=25 \n",
      "[CV]  random_forest__n_estimators=1000, random_forest__min_samples_split=2, random_forest__min_samples_leaf=1, random_forest__max_features=sqrt, random_forest__max_depth=25, score=-5138427.294, total=   9.9s\n",
      "[CV] random_forest__n_estimators=1000, random_forest__min_samples_split=2, random_forest__min_samples_leaf=1, random_forest__max_features=sqrt, random_forest__max_depth=25 \n",
      "[CV]  random_forest__n_estimators=1000, random_forest__min_samples_split=2, random_forest__min_samples_leaf=1, random_forest__max_features=sqrt, random_forest__max_depth=25, score=-5067960.496, total=   9.4s\n",
      "[CV] random_forest__n_estimators=1000, random_forest__min_samples_split=2, random_forest__min_samples_leaf=1, random_forest__max_features=sqrt, random_forest__max_depth=25 \n",
      "[CV]  random_forest__n_estimators=1000, random_forest__min_samples_split=2, random_forest__min_samples_leaf=1, random_forest__max_features=sqrt, random_forest__max_depth=25, score=-6803927.061, total=   9.1s\n",
      "[CV] random_forest__n_estimators=1000, random_forest__min_samples_split=2, random_forest__min_samples_leaf=1, random_forest__max_features=sqrt, random_forest__max_depth=25 \n",
      "[CV]  random_forest__n_estimators=1000, random_forest__min_samples_split=2, random_forest__min_samples_leaf=1, random_forest__max_features=sqrt, random_forest__max_depth=25, score=-5981946.742, total=  10.0s\n",
      "[CV] random_forest__n_estimators=1100, random_forest__min_samples_split=15, random_forest__min_samples_leaf=10, random_forest__max_features=sqrt, random_forest__max_depth=5 \n",
      "[CV]  random_forest__n_estimators=1100, random_forest__min_samples_split=15, random_forest__min_samples_leaf=10, random_forest__max_features=sqrt, random_forest__max_depth=5, score=-8517619.147, total=   6.1s\n",
      "[CV] random_forest__n_estimators=1100, random_forest__min_samples_split=15, random_forest__min_samples_leaf=10, random_forest__max_features=sqrt, random_forest__max_depth=5 \n",
      "[CV]  random_forest__n_estimators=1100, random_forest__min_samples_split=15, random_forest__min_samples_leaf=10, random_forest__max_features=sqrt, random_forest__max_depth=5, score=-6525950.251, total=   6.3s\n",
      "[CV] random_forest__n_estimators=1100, random_forest__min_samples_split=15, random_forest__min_samples_leaf=10, random_forest__max_features=sqrt, random_forest__max_depth=5 \n",
      "[CV]  random_forest__n_estimators=1100, random_forest__min_samples_split=15, random_forest__min_samples_leaf=10, random_forest__max_features=sqrt, random_forest__max_depth=5, score=-6307831.471, total=   6.2s\n",
      "[CV] random_forest__n_estimators=1100, random_forest__min_samples_split=15, random_forest__min_samples_leaf=10, random_forest__max_features=sqrt, random_forest__max_depth=5 \n",
      "[CV]  random_forest__n_estimators=1100, random_forest__min_samples_split=15, random_forest__min_samples_leaf=10, random_forest__max_features=sqrt, random_forest__max_depth=5, score=-8870457.560, total=   6.0s\n",
      "[CV] random_forest__n_estimators=1100, random_forest__min_samples_split=15, random_forest__min_samples_leaf=10, random_forest__max_features=sqrt, random_forest__max_depth=5 \n",
      "[CV]  random_forest__n_estimators=1100, random_forest__min_samples_split=15, random_forest__min_samples_leaf=10, random_forest__max_features=sqrt, random_forest__max_depth=5, score=-7462822.151, total=   6.2s\n",
      "[CV] random_forest__n_estimators=300, random_forest__min_samples_split=15, random_forest__min_samples_leaf=1, random_forest__max_features=sqrt, random_forest__max_depth=15 \n",
      "[CV]  random_forest__n_estimators=300, random_forest__min_samples_split=15, random_forest__min_samples_leaf=1, random_forest__max_features=sqrt, random_forest__max_depth=15, score=-6325077.110, total=   5.5s\n",
      "[CV] random_forest__n_estimators=300, random_forest__min_samples_split=15, random_forest__min_samples_leaf=1, random_forest__max_features=sqrt, random_forest__max_depth=15 \n",
      "[CV]  random_forest__n_estimators=300, random_forest__min_samples_split=15, random_forest__min_samples_leaf=1, random_forest__max_features=sqrt, random_forest__max_depth=15, score=-5144227.641, total=   5.8s\n",
      "[CV] random_forest__n_estimators=300, random_forest__min_samples_split=15, random_forest__min_samples_leaf=1, random_forest__max_features=sqrt, random_forest__max_depth=15 \n",
      "[CV]  random_forest__n_estimators=300, random_forest__min_samples_split=15, random_forest__min_samples_leaf=1, random_forest__max_features=sqrt, random_forest__max_depth=15, score=-5064474.799, total=   5.7s\n",
      "[CV] random_forest__n_estimators=300, random_forest__min_samples_split=15, random_forest__min_samples_leaf=1, random_forest__max_features=sqrt, random_forest__max_depth=15 \n",
      "[CV]  random_forest__n_estimators=300, random_forest__min_samples_split=15, random_forest__min_samples_leaf=1, random_forest__max_features=sqrt, random_forest__max_depth=15, score=-6805566.343, total=   5.5s\n",
      "[CV] random_forest__n_estimators=300, random_forest__min_samples_split=15, random_forest__min_samples_leaf=1, random_forest__max_features=sqrt, random_forest__max_depth=15 \n",
      "[CV]  random_forest__n_estimators=300, random_forest__min_samples_split=15, random_forest__min_samples_leaf=1, random_forest__max_features=sqrt, random_forest__max_depth=15, score=-5987257.840, total=   5.8s\n",
      "[CV] random_forest__n_estimators=700, random_forest__min_samples_split=10, random_forest__min_samples_leaf=2, random_forest__max_features=sqrt, random_forest__max_depth=5 \n",
      "[CV]  random_forest__n_estimators=700, random_forest__min_samples_split=10, random_forest__min_samples_leaf=2, random_forest__max_features=sqrt, random_forest__max_depth=5, score=-8187318.475, total=   5.4s\n",
      "[CV] random_forest__n_estimators=700, random_forest__min_samples_split=10, random_forest__min_samples_leaf=2, random_forest__max_features=sqrt, random_forest__max_depth=5 \n",
      "[CV]  random_forest__n_estimators=700, random_forest__min_samples_split=10, random_forest__min_samples_leaf=2, random_forest__max_features=sqrt, random_forest__max_depth=5, score=-6276039.047, total=   5.5s\n",
      "[CV] random_forest__n_estimators=700, random_forest__min_samples_split=10, random_forest__min_samples_leaf=2, random_forest__max_features=sqrt, random_forest__max_depth=5 \n",
      "[CV]  random_forest__n_estimators=700, random_forest__min_samples_split=10, random_forest__min_samples_leaf=2, random_forest__max_features=sqrt, random_forest__max_depth=5, score=-6176275.282, total=   5.4s\n",
      "[CV] random_forest__n_estimators=700, random_forest__min_samples_split=10, random_forest__min_samples_leaf=2, random_forest__max_features=sqrt, random_forest__max_depth=5 \n",
      "[CV]  random_forest__n_estimators=700, random_forest__min_samples_split=10, random_forest__min_samples_leaf=2, random_forest__max_features=sqrt, random_forest__max_depth=5, score=-8544840.628, total=   5.3s\n",
      "[CV] random_forest__n_estimators=700, random_forest__min_samples_split=10, random_forest__min_samples_leaf=2, random_forest__max_features=sqrt, random_forest__max_depth=5 \n",
      "[CV]  random_forest__n_estimators=700, random_forest__min_samples_split=10, random_forest__min_samples_leaf=2, random_forest__max_features=sqrt, random_forest__max_depth=5, score=-7486849.451, total=   5.4s\n",
      "[CV] random_forest__n_estimators=700, random_forest__min_samples_split=15, random_forest__min_samples_leaf=1, random_forest__max_features=auto, random_forest__max_depth=20 \n",
      "[CV]  random_forest__n_estimators=700, random_forest__min_samples_split=15, random_forest__min_samples_leaf=1, random_forest__max_features=auto, random_forest__max_depth=20, score=-6316463.671, total=   8.2s\n",
      "[CV] random_forest__n_estimators=700, random_forest__min_samples_split=15, random_forest__min_samples_leaf=1, random_forest__max_features=auto, random_forest__max_depth=20 \n"
     ]
    },
    {
     "name": "stdout",
     "output_type": "stream",
     "text": [
      "[CV]  random_forest__n_estimators=700, random_forest__min_samples_split=15, random_forest__min_samples_leaf=1, random_forest__max_features=auto, random_forest__max_depth=20, score=-5143270.595, total=   9.4s\n",
      "[CV] random_forest__n_estimators=700, random_forest__min_samples_split=15, random_forest__min_samples_leaf=1, random_forest__max_features=auto, random_forest__max_depth=20 \n",
      "[CV]  random_forest__n_estimators=700, random_forest__min_samples_split=15, random_forest__min_samples_leaf=1, random_forest__max_features=auto, random_forest__max_depth=20, score=-5065025.087, total=   9.0s\n",
      "[CV] random_forest__n_estimators=700, random_forest__min_samples_split=15, random_forest__min_samples_leaf=1, random_forest__max_features=auto, random_forest__max_depth=20 \n",
      "[CV]  random_forest__n_estimators=700, random_forest__min_samples_split=15, random_forest__min_samples_leaf=1, random_forest__max_features=auto, random_forest__max_depth=20, score=-6799871.905, total=   8.2s\n",
      "[CV] random_forest__n_estimators=700, random_forest__min_samples_split=15, random_forest__min_samples_leaf=1, random_forest__max_features=auto, random_forest__max_depth=20 \n",
      "[CV]  random_forest__n_estimators=700, random_forest__min_samples_split=15, random_forest__min_samples_leaf=1, random_forest__max_features=auto, random_forest__max_depth=20, score=-5979231.707, total=   9.2s\n"
     ]
    },
    {
     "name": "stderr",
     "output_type": "stream",
     "text": [
      "[Parallel(n_jobs=1)]: Done  50 out of  50 | elapsed:  6.2min finished\n"
     ]
    },
    {
     "data": {
      "text/plain": [
       "{'random_forest__n_estimators': 700,\n",
       " 'random_forest__min_samples_split': 15,\n",
       " 'random_forest__min_samples_leaf': 1,\n",
       " 'random_forest__max_features': 'auto',\n",
       " 'random_forest__max_depth': 20}"
      ]
     },
     "execution_count": 515,
     "metadata": {},
     "output_type": "execute_result"
    }
   ],
   "source": [
    "random_search.fit(X_train,y_train)\n",
    "random_search.best_params_"
   ]
  },
  {
   "cell_type": "code",
   "execution_count": 521,
   "metadata": {},
   "outputs": [
    {
     "name": "stdout",
     "output_type": "stream",
     "text": [
      "Fitting 5 folds for each of 5 candidates, totalling 25 fits\n",
      "[CV] feature_select__threshold=0.024199598213299468*mean .............\n"
     ]
    },
    {
     "name": "stderr",
     "output_type": "stream",
     "text": [
      "[Parallel(n_jobs=1)]: Using backend SequentialBackend with 1 concurrent workers.\n"
     ]
    },
    {
     "name": "stdout",
     "output_type": "stream",
     "text": [
      "[CV]  feature_select__threshold=0.024199598213299468*mean, score=-6285454.087, total=   9.5s\n",
      "[CV] feature_select__threshold=0.024199598213299468*mean .............\n"
     ]
    },
    {
     "name": "stderr",
     "output_type": "stream",
     "text": [
      "[Parallel(n_jobs=1)]: Done   1 out of   1 | elapsed:    9.5s remaining:    0.0s\n"
     ]
    },
    {
     "name": "stdout",
     "output_type": "stream",
     "text": [
      "[CV]  feature_select__threshold=0.024199598213299468*mean, score=-5132173.270, total=   9.9s\n",
      "[CV] feature_select__threshold=0.024199598213299468*mean .............\n"
     ]
    },
    {
     "name": "stderr",
     "output_type": "stream",
     "text": [
      "[Parallel(n_jobs=1)]: Done   2 out of   2 | elapsed:   19.4s remaining:    0.0s\n"
     ]
    },
    {
     "name": "stdout",
     "output_type": "stream",
     "text": [
      "[CV]  feature_select__threshold=0.024199598213299468*mean, score=-5030234.138, total=   9.4s\n",
      "[CV] feature_select__threshold=0.024199598213299468*mean .............\n",
      "[CV]  feature_select__threshold=0.024199598213299468*mean, score=-6732920.498, total=   9.3s\n",
      "[CV] feature_select__threshold=0.024199598213299468*mean .............\n",
      "[CV]  feature_select__threshold=0.024199598213299468*mean, score=-5963683.512, total=   9.2s\n",
      "[CV] feature_select__threshold=0.014913734378366206*mean .............\n",
      "[CV]  feature_select__threshold=0.014913734378366206*mean, score=-6283270.889, total=   9.6s\n",
      "[CV] feature_select__threshold=0.014913734378366206*mean .............\n",
      "[CV]  feature_select__threshold=0.014913734378366206*mean, score=-5137790.765, total=  10.5s\n",
      "[CV] feature_select__threshold=0.014913734378366206*mean .............\n",
      "[CV]  feature_select__threshold=0.014913734378366206*mean, score=-5028413.428, total=   9.9s\n",
      "[CV] feature_select__threshold=0.014913734378366206*mean .............\n",
      "[CV]  feature_select__threshold=0.014913734378366206*mean, score=-6740326.873, total=   9.4s\n",
      "[CV] feature_select__threshold=0.014913734378366206*mean .............\n",
      "[CV]  feature_select__threshold=0.014913734378366206*mean, score=-5969339.457, total=   9.9s\n",
      "[CV] feature_select__threshold=0.1144470164426419*mean ...............\n",
      "[CV]  feature_select__threshold=0.1144470164426419*mean, score=-6424276.493, total=   7.6s\n",
      "[CV] feature_select__threshold=0.1144470164426419*mean ...............\n",
      "[CV]  feature_select__threshold=0.1144470164426419*mean, score=-5395586.711, total=   7.7s\n",
      "[CV] feature_select__threshold=0.1144470164426419*mean ...............\n",
      "[CV]  feature_select__threshold=0.1144470164426419*mean, score=-5149931.439, total=   8.2s\n",
      "[CV] feature_select__threshold=0.1144470164426419*mean ...............\n",
      "[CV]  feature_select__threshold=0.1144470164426419*mean, score=-6948593.220, total=   7.8s\n",
      "[CV] feature_select__threshold=0.1144470164426419*mean ...............\n",
      "[CV]  feature_select__threshold=0.1144470164426419*mean, score=-6150601.136, total=   7.9s\n",
      "[CV] feature_select__threshold=0.08748502904108911*mean ..............\n",
      "[CV]  feature_select__threshold=0.08748502904108911*mean, score=-6335813.054, total=   8.3s\n",
      "[CV] feature_select__threshold=0.08748502904108911*mean ..............\n",
      "[CV]  feature_select__threshold=0.08748502904108911*mean, score=-5168640.254, total=   9.0s\n",
      "[CV] feature_select__threshold=0.08748502904108911*mean ..............\n",
      "[CV]  feature_select__threshold=0.08748502904108911*mean, score=-5072511.067, total=   8.6s\n",
      "[CV] feature_select__threshold=0.08748502904108911*mean ..............\n",
      "[CV]  feature_select__threshold=0.08748502904108911*mean, score=-6818713.489, total=   8.2s\n",
      "[CV] feature_select__threshold=0.08748502904108911*mean ..............\n",
      "[CV]  feature_select__threshold=0.08748502904108911*mean, score=-5977182.565, total=   8.0s\n",
      "[CV] feature_select__threshold=0.07716099517908781*mean ..............\n",
      "[CV]  feature_select__threshold=0.07716099517908781*mean, score=-6312784.053, total=   8.3s\n",
      "[CV] feature_select__threshold=0.07716099517908781*mean ..............\n",
      "[CV]  feature_select__threshold=0.07716099517908781*mean, score=-5162917.160, total=   8.3s\n",
      "[CV] feature_select__threshold=0.07716099517908781*mean ..............\n",
      "[CV]  feature_select__threshold=0.07716099517908781*mean, score=-5068376.870, total=   8.6s\n",
      "[CV] feature_select__threshold=0.07716099517908781*mean ..............\n",
      "[CV]  feature_select__threshold=0.07716099517908781*mean, score=-6814499.801, total=   8.7s\n",
      "[CV] feature_select__threshold=0.07716099517908781*mean ..............\n",
      "[CV]  feature_select__threshold=0.07716099517908781*mean, score=-5976917.453, total=   8.5s\n"
     ]
    },
    {
     "name": "stderr",
     "output_type": "stream",
     "text": [
      "[Parallel(n_jobs=1)]: Done  25 out of  25 | elapsed:  3.7min finished\n"
     ]
    },
    {
     "data": {
      "text/plain": [
       "{'feature_select__threshold': '0.024199598213299468*mean'}"
      ]
     },
     "execution_count": 521,
     "metadata": {},
     "output_type": "execute_result"
    }
   ],
   "source": [
    "random_grid = [{\n",
    "    'feature_select__threshold' : [\"{}*mean\".format(i) for i in np.random.uniform(low=0.01,high=0.2,size=5)],\n",
    "}]\n",
    "\n",
    "rnd = GridSearchCV(random_search.best_estimator_,random_grid,cv=5, scoring=\"neg_mean_squared_error\",verbose=3)\n",
    "rnd.fit(X_train,y_train)\n",
    "rnd.best_params_"
   ]
  },
  {
   "cell_type": "code",
   "execution_count": 522,
   "metadata": {},
   "outputs": [
    {
     "data": {
      "text/plain": [
       "2414.310067306919"
      ]
     },
     "execution_count": 522,
     "metadata": {},
     "output_type": "execute_result"
    }
   ],
   "source": [
    "np.sqrt(-rnd.best_score_)"
   ]
  },
  {
   "cell_type": "code",
   "execution_count": 507,
   "metadata": {},
   "outputs": [
    {
     "data": {
      "text/plain": [
       "Pipeline(steps=[('preprocess',\n",
       "                 Pipeline(steps=[('date_attribs', DateTransformer()),\n",
       "                                 ('cat_attribs',\n",
       "                                  ColumnTransformer(transformers=[('one_hot',\n",
       "                                                                   OneHotEncoder(),\n",
       "                                                                   ['Airline',\n",
       "                                                                    'Source',\n",
       "                                                                    'Destination']),\n",
       "                                                                  ('ordinal_encoder',\n",
       "                                                                   OrdinalEncoder(),\n",
       "                                                                   ['Total_Stops',\n",
       "                                                                    'Additional_Info']),\n",
       "                                                                  ('drop_features',\n",
       "                                                                   'drop',\n",
       "                                                                   ['Route'])]))])),\n",
       "                ('feature_select',\n",
       "                 SelectFromModel(estimator=RandomForestRegressor(n_estimators=500),\n",
       "                                 threshold='0.05*mean')),\n",
       "                ('random_forest', DecisionTreeRegressor())])"
      ]
     },
     "execution_count": 507,
     "metadata": {},
     "output_type": "execute_result"
    }
   ],
   "source": []
  },
  {
   "cell_type": "code",
   "execution_count": 523,
   "metadata": {},
   "outputs": [],
   "source": [
    "best_pipeline =  Pipeline([\n",
    "    ('preprocess',preprocess_pipeline),\n",
    "    ('feature_select',SelectFromModel(RandomForestRegressor(n_estimators=500),threshold='0.024199598213299468*mean')),\n",
    "    ('random_forest',RandomForestRegressor(n_estimators=700,\n",
    "                                           min_samples_split=15,\n",
    "                                           min_samples_leaf=1,\n",
    "                                           max_features='auto',\n",
    "                                           max_depth=20 ))\n",
    "])"
   ]
  },
  {
   "cell_type": "code",
   "execution_count": 524,
   "metadata": {},
   "outputs": [
    {
     "data": {
      "text/plain": [
       "Pipeline(steps=[('preprocess',\n",
       "                 Pipeline(steps=[('date_attribs', DateTransformer()),\n",
       "                                 ('cat_attribs',\n",
       "                                  ColumnTransformer(transformers=[('one_hot',\n",
       "                                                                   OneHotEncoder(),\n",
       "                                                                   ['Airline',\n",
       "                                                                    'Source',\n",
       "                                                                    'Destination']),\n",
       "                                                                  ('ordinal_encoder',\n",
       "                                                                   OrdinalEncoder(),\n",
       "                                                                   ['Total_Stops',\n",
       "                                                                    'Additional_Info']),\n",
       "                                                                  ('drop_features',\n",
       "                                                                   'drop',\n",
       "                                                                   ['Route'])]))])),\n",
       "                ('feature_select',\n",
       "                 SelectFromModel(estimator=RandomForestRegressor(n_estimators=500),\n",
       "                                 threshold='0.024199598213299468*mean')),\n",
       "                ('random_forest',\n",
       "                 RandomForestRegressor(max_depth=20, min_samples_split=15,\n",
       "                                       n_estimators=700))])"
      ]
     },
     "execution_count": 524,
     "metadata": {},
     "output_type": "execute_result"
    }
   ],
   "source": [
    "best_pipeline.fit(X_train,y_train)"
   ]
  },
  {
   "cell_type": "code",
   "execution_count": 525,
   "metadata": {},
   "outputs": [
    {
     "data": {
      "text/plain": [
       "0.7221680308012086"
      ]
     },
     "execution_count": 525,
     "metadata": {},
     "output_type": "execute_result"
    }
   ],
   "source": [
    "best_pipeline.score(X_test,y_test)"
   ]
  },
  {
   "cell_type": "code",
   "execution_count": 527,
   "metadata": {},
   "outputs": [],
   "source": [
    "rmse = np.sqrt(mean_squared_error(best_pipeline.predict(X_test),y_test))"
   ]
  },
  {
   "cell_type": "code",
   "execution_count": 528,
   "metadata": {},
   "outputs": [
    {
     "data": {
      "text/plain": [
       "2380.4294133742023"
      ]
     },
     "execution_count": 528,
     "metadata": {},
     "output_type": "execute_result"
    }
   ],
   "source": [
    "rmse"
   ]
  },
  {
   "cell_type": "code",
   "execution_count": 533,
   "metadata": {},
   "outputs": [],
   "source": [
    "import joblib\n",
    "\n",
    "os.makedirs(\"model\",exist_ok=True)"
   ]
  },
  {
   "cell_type": "code",
   "execution_count": 535,
   "metadata": {},
   "outputs": [
    {
     "data": {
      "text/plain": [
       "['model/best_model.pkl']"
      ]
     },
     "execution_count": 535,
     "metadata": {},
     "output_type": "execute_result"
    }
   ],
   "source": [
    "joblib.dump(best_pipeline,os.path.join(\"model\",\"best_model.pkl\"))"
   ]
  },
  {
   "cell_type": "code",
   "execution_count": null,
   "metadata": {},
   "outputs": [],
   "source": []
  }
 ],
 "metadata": {
  "kernelspec": {
   "display_name": "Python 3",
   "language": "python",
   "name": "python3"
  },
  "language_info": {
   "codemirror_mode": {
    "name": "ipython",
    "version": 3
   },
   "file_extension": ".py",
   "mimetype": "text/x-python",
   "name": "python",
   "nbconvert_exporter": "python",
   "pygments_lexer": "ipython3",
   "version": "3.7.9-final"
  }
 },
 "nbformat": 4,
 "nbformat_minor": 4
}